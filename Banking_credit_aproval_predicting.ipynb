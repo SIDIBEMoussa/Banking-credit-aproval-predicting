{
  "nbformat": 4,
  "nbformat_minor": 0,
  "metadata": {
    "colab": {
      "name": "Banking_credit_aproval_predicting.ipynb",
      "provenance": [],
      "toc_visible": true,
      "authorship_tag": "ABX9TyMCqmf6hmL/PMZgHVnNXJiv",
      "include_colab_link": true
    },
    "kernelspec": {
      "name": "python3",
      "display_name": "Python 3"
    }
  },
  "cells": [
    {
      "cell_type": "markdown",
      "metadata": {
        "id": "view-in-github",
        "colab_type": "text"
      },
      "source": [
        "<a href=\"https://colab.research.google.com/github/SIDIBEMoussa/Banking-credit-aproval-predicting/blob/main/Banking_credit_aproval_predicting.ipynb\" target=\"_parent\"><img src=\"https://colab.research.google.com/assets/colab-badge.svg\" alt=\"Open In Colab\"/></a>"
      ]
    },
    {
      "cell_type": "code",
      "metadata": {
        "id": "Vyuu5PndeF3U"
      },
      "source": [
        "import pandas as pd"
      ],
      "execution_count": 7,
      "outputs": []
    },
    {
      "cell_type": "code",
      "metadata": {
        "id": "HnOFyXBaea4l"
      },
      "source": [
        "data=pd.read_excel(\"Data.xlsx\")"
      ],
      "execution_count": 8,
      "outputs": []
    },
    {
      "cell_type": "code",
      "metadata": {
        "id": "rKsHw4eFednK"
      },
      "source": [
        "data=data.drop(['Unnamed: 0',\"ID\",\"Approuvée\"],axis=1)\n",
        "data=data.dropna()"
      ],
      "execution_count": 9,
      "outputs": []
    },
    {
      "cell_type": "code",
      "metadata": {
        "id": "6yHm9Yooes1o",
        "colab": {
          "base_uri": "https://localhost:8080/",
          "height": 165
        },
        "outputId": "8ac35dc9-6a6c-4a7b-89f8-fee33a12c392"
      },
      "source": [
        "data.head(2)"
      ],
      "execution_count": 10,
      "outputs": [
        {
          "output_type": "execute_result",
          "data": {
            "text/html": [
              "<div>\n",
              "<style scoped>\n",
              "    .dataframe tbody tr th:only-of-type {\n",
              "        vertical-align: middle;\n",
              "    }\n",
              "\n",
              "    .dataframe tbody tr th {\n",
              "        vertical-align: top;\n",
              "    }\n",
              "\n",
              "    .dataframe thead th {\n",
              "        text-align: right;\n",
              "    }\n",
              "</style>\n",
              "<table border=\"1\" class=\"dataframe\">\n",
              "  <thead>\n",
              "    <tr style=\"text-align: right;\">\n",
              "      <th></th>\n",
              "      <th>Sexe</th>\n",
              "      <th>Motorisé</th>\n",
              "      <th>PropriétaireImmobilier</th>\n",
              "      <th>NombreEnfants</th>\n",
              "      <th>RevenuAnnuel</th>\n",
              "      <th>SecteurActivité</th>\n",
              "      <th>NiveauEducation</th>\n",
              "      <th>EtatCivil</th>\n",
              "      <th>TypeLogement</th>\n",
              "      <th>CategorieEmploi</th>\n",
              "      <th>MembreFamille</th>\n",
              "      <th>Age</th>\n",
              "      <th>Experience</th>\n",
              "      <th>target</th>\n",
              "    </tr>\n",
              "  </thead>\n",
              "  <tbody>\n",
              "    <tr>\n",
              "      <th>0</th>\n",
              "      <td>M</td>\n",
              "      <td>Y</td>\n",
              "      <td>Y</td>\n",
              "      <td>0</td>\n",
              "      <td>112500.0</td>\n",
              "      <td>Working</td>\n",
              "      <td>Secondary / secondary special</td>\n",
              "      <td>Married</td>\n",
              "      <td>House / apartment</td>\n",
              "      <td>Security staff</td>\n",
              "      <td>2</td>\n",
              "      <td>58</td>\n",
              "      <td>3</td>\n",
              "      <td>0</td>\n",
              "    </tr>\n",
              "    <tr>\n",
              "      <th>1</th>\n",
              "      <td>F</td>\n",
              "      <td>N</td>\n",
              "      <td>Y</td>\n",
              "      <td>0</td>\n",
              "      <td>270000.0</td>\n",
              "      <td>Commercial associate</td>\n",
              "      <td>Secondary / secondary special</td>\n",
              "      <td>Single / not married</td>\n",
              "      <td>House / apartment</td>\n",
              "      <td>Sales staff</td>\n",
              "      <td>1</td>\n",
              "      <td>52</td>\n",
              "      <td>8</td>\n",
              "      <td>0</td>\n",
              "    </tr>\n",
              "  </tbody>\n",
              "</table>\n",
              "</div>"
            ],
            "text/plain": [
              "  Sexe Motorisé PropriétaireImmobilier  ...  Age  Experience target\n",
              "0    M        Y                      Y  ...   58           3      0\n",
              "1    F        N                      Y  ...   52           8      0\n",
              "\n",
              "[2 rows x 14 columns]"
            ]
          },
          "metadata": {
            "tags": []
          },
          "execution_count": 10
        }
      ]
    },
    {
      "cell_type": "code",
      "metadata": {
        "id": "EsFO3FLeetc6"
      },
      "source": [
        "stri=[\"Sexe\",\"Motorisé\",\"PropriétaireImmobilier\",\"SecteurActivité\",\"NiveauEducation\",\"EtatCivil\",\"TypeLogement\",\"CategorieEmploi\"]"
      ],
      "execution_count": 11,
      "outputs": []
    },
    {
      "cell_type": "code",
      "metadata": {
        "id": "MtwA-rLyetgZ"
      },
      "source": [
        "from sklearn.preprocessing import LabelEncoder\n",
        "lb=LabelEncoder()"
      ],
      "execution_count": 12,
      "outputs": []
    },
    {
      "cell_type": "code",
      "metadata": {
        "id": "ukq8jI0jetoq"
      },
      "source": [
        "for i in stri:\n",
        "      data[i]=lb.fit_transform(data[i])\n"
      ],
      "execution_count": 13,
      "outputs": []
    },
    {
      "cell_type": "code",
      "metadata": {
        "id": "zrnShKBmetqZ"
      },
      "source": [
        "import seaborn as sns\n",
        "import matplotlib.pyplot as pl\n",
        "import numpy as np"
      ],
      "execution_count": 14,
      "outputs": []
    },
    {
      "cell_type": "code",
      "metadata": {
        "id": "Jzx9Uq57etuT",
        "colab": {
          "base_uri": "https://localhost:8080/",
          "height": 294
        },
        "outputId": "75f423b2-9bb8-4139-8446-0aa1a041bf9f"
      },
      "source": [
        "p=pl.hist(data.RevenuAnnuel)\n",
        "a=pl.annotate(\"le point d'arrêt des \\n valeurs coherents\",xy=(0.65*10**6,250),xytext=(800000,1000),arrowprops = {'facecolor': 'red','shrink': 0.1})\n",
        "m=pl.title(\"Mode des Revenues\")"
      ],
      "execution_count": 15,
      "outputs": [
        {
          "output_type": "display_data",
          "data": {
            "image/png": "[encoded data removed]",
            "text/plain": [
              "<Figure size 432x288 with 1 Axes>"
            ]
          },
          "metadata": {
            "tags": [],
            "needs_background": "light"
          }
        }
      ]
    },
    {
      "cell_type": "markdown",
      "metadata": {
        "id": "2IB1Rsj6fKp9"
      },
      "source": [
        "Avec ce histogramme nous pouvons facilement detecter les outliers afin de les enlever sinon plus influent sur les valeurs de tendance centrale et de dispersion"
      ]
    },
    {
      "cell_type": "code",
      "metadata": {
        "id": "l-GtkJ2XetwX"
      },
      "source": [
        "data=data[data.RevenuAnnuel<350000]"
      ],
      "execution_count": 16,
      "outputs": []
    },
    {
      "cell_type": "markdown",
      "metadata": {
        "id": "ladAuWvxfUlM"
      },
      "source": [
        "## Analyse univariée"
      ]
    },
    {
      "cell_type": "markdown",
      "metadata": {
        "id": "T-US6rekfm24"
      },
      "source": [
        "1. Mesures de tendances centrales  et mesures de dispersion\n",
        "2. Visualisation graphiques des données"
      ]
    },
    {
      "cell_type": "code",
      "metadata": {
        "colab": {
          "base_uri": "https://localhost:8080/",
          "height": 521
        },
        "id": "5jU1_3Rdetx2",
        "outputId": "72f1147c-eb6e-46e6-84b3-7a9192856959"
      },
      "source": [
        "pl.figure(figsize=(10,7))\n",
        "sns.boxenplot(\"RevenuAnnuel\",data=data,width=0.9).set_title(\"La distribution des Revenues annuels\",size=25)\n",
        "pl.axis(xmin=26500,xmax=350500)\n",
        "pl.show()"
      ],
      "execution_count": 17,
      "outputs": [
        {
          "output_type": "stream",
          "text": [
            "/usr/local/lib/python3.6/dist-packages/seaborn/_decorators.py:43: FutureWarning: Pass the following variable as a keyword arg: x. From version 0.12, the only valid positional argument will be `data`, and passing other arguments without an explicit keyword will result in an error or misinterpretation.\n",
            "  FutureWarning\n"
          ],
          "name": "stderr"
        },
        {
          "output_type": "display_data",
          "data": {
            "image/png": "[encoded data removed]",
            "text/plain": [
              "<Figure size 720x504 with 1 Axes>"
            ]
          },
          "metadata": {
            "tags": [],
            "needs_background": "light"
          }
        }
      ]
    },
    {
      "cell_type": "markdown",
      "metadata": {
        "id": "3DezwvcyfzXU"
      },
      "source": [
        "Avec ce graphique ci-dessus nous avons une idée globale ci sur la distribution des salaires annuels des clients dont la moyenne est environ 180000"
      ]
    },
    {
      "cell_type": "code",
      "metadata": {
        "id": "7pwPPy_netzV",
        "colab": {
          "base_uri": "https://localhost:8080/"
        },
        "outputId": "975adaaf-5aad-403c-ec3a-14e43a621cf0"
      },
      "source": [
        "round((data.RevenuAnnuel).std())"
      ],
      "execution_count": 18,
      "outputs": [
        {
          "output_type": "execute_result",
          "data": {
            "text/plain": [
              "65579"
            ]
          },
          "metadata": {
            "tags": []
          },
          "execution_count": 18
        }
      ]
    },
    {
      "cell_type": "markdown",
      "metadata": {
        "id": "erqcFZ1XgF3w"
      },
      "source": [
        "# La dispersion autour de la tendance central est std: 65579"
      ]
    },
    {
      "cell_type": "markdown",
      "metadata": {
        "id": "UK-N1m22gLC2"
      },
      "source": [
        "# La dispersion du salaire annuel"
      ]
    },
    {
      "cell_type": "markdown",
      "metadata": {
        "id": "763emWjTgQh0"
      },
      "source": [
        "Alors nous avions une très grande variabilité entre les salaires annuels de nos clients avec plus ou moins des valeurs qui peuvent tourner autour de la moyenne avec une de 65579 ce qui enorme au point de vue salariale alors nous observons une difference de classe sociale entre les clients voulant contracter le crédit"
      ]
    },
    {
      "cell_type": "code",
      "metadata": {
        "id": "3V4-r_ESet0w",
        "colab": {
          "base_uri": "https://localhost:8080/"
        },
        "outputId": "bb3a5aff-5233-4ed0-ba45-2547fe2e5e60"
      },
      "source": [
        "data.RevenuAnnuel.skew(),data.RevenuAnnuel.kurtosis()"
      ],
      "execution_count": 19,
      "outputs": [
        {
          "output_type": "execute_result",
          "data": {
            "text/plain": [
              "(0.4637152516442095, -0.4807490784268902)"
            ]
          },
          "metadata": {
            "tags": []
          },
          "execution_count": 19
        }
      ]
    },
    {
      "cell_type": "markdown",
      "metadata": {
        "id": "W-URf4ySgbNB"
      },
      "source": [
        "# La forme du Revenu annuel des clients\n",
        "* La plupart de nos clients ont un salaire plus étalé à droite de la moyenne ce qui resulte de la positivité de skewness empirique\n",
        "* Notre variable a des observations moins concentrées: la distribution est plus applatis que la distibution normale"
      ]
    },
    {
      "cell_type": "markdown",
      "metadata": {
        "id": "dCsBUPfRghg4"
      },
      "source": [
        "# Nous allons nous intérêsser dans cette partie à l'âge de nos candidats pour un crédit bancaire"
      ]
    },
    {
      "cell_type": "code",
      "metadata": {
        "id": "XaHyRgdset2v",
        "colab": {
          "base_uri": "https://localhost:8080/",
          "height": 523
        },
        "outputId": "450fe49a-deef-465a-c6ad-28e25f288515"
      },
      "source": [
        "pl.figure(figsize=(10,7))\n",
        "sns.boxenplot(\"Age\",data=data,width=0.9).set_title(\"La distribution de l'âge des clients\",size=25)\n",
        "pl.axis(xmin=20,xmax=67)\n",
        "pl.show()"
      ],
      "execution_count": 20,
      "outputs": [
        {
          "output_type": "stream",
          "text": [
            "/usr/local/lib/python3.6/dist-packages/seaborn/_decorators.py:43: FutureWarning: Pass the following variable as a keyword arg: x. From version 0.12, the only valid positional argument will be `data`, and passing other arguments without an explicit keyword will result in an error or misinterpretation.\n",
            "  FutureWarning\n"
          ],
          "name": "stderr"
        },
        {
          "output_type": "display_data",
          "data": {
            "image/png": "[encoded data removed]",
            "text/plain": [
              "<Figure size 720x504 with 1 Axes>"
            ]
          },
          "metadata": {
            "tags": [],
            "needs_background": "light"
          }
        }
      ]
    },
    {
      "cell_type": "markdown",
      "metadata": {
        "id": "cRRKJ8HIgvXP"
      },
      "source": [
        "## Nous avions une clientèle plus concentré dans le tranche d'âge [37 ans - 57 ans] "
      ]
    },
    {
      "cell_type": "code",
      "metadata": {
        "id": "4q_JTpCMet43",
        "colab": {
          "base_uri": "https://localhost:8080/"
        },
        "outputId": "d6d4fde0-39cc-41c1-d014-80187bcd5d42"
      },
      "source": [
        "round(data.Age.std())"
      ],
      "execution_count": 21,
      "outputs": [
        {
          "output_type": "execute_result",
          "data": {
            "text/plain": [
              "10"
            ]
          },
          "metadata": {
            "tags": []
          },
          "execution_count": 21
        }
      ]
    },
    {
      "cell_type": "markdown",
      "metadata": {
        "id": "ZR2f409yg2Y4"
      },
      "source": [
        "## La dispersion de l'âge autour de la tendance central est std: 10"
      ]
    },
    {
      "cell_type": "code",
      "metadata": {
        "id": "yGqyGYoPet7Y",
        "colab": {
          "base_uri": "https://localhost:8080/"
        },
        "outputId": "07e64461-d490-4e6c-da1a-7162ff04a691"
      },
      "source": [
        "data.Age.skew(),data.Age.kurtosis()"
      ],
      "execution_count": 22,
      "outputs": [
        {
          "output_type": "execute_result",
          "data": {
            "text/plain": [
              "(0.28735032524142645, -0.741356087952862)"
            ]
          },
          "metadata": {
            "tags": []
          },
          "execution_count": 22
        }
      ]
    },
    {
      "cell_type": "markdown",
      "metadata": {
        "id": "f46GsHsdg-MJ"
      },
      "source": [
        "# La forme de l'âge des clients\n",
        "* La plupart de nos clients ont un âge plus étalé à droite  de la  moyenne ce qui resulte de la positivité de skewness empirique\n",
        "* Notre variable a des observations moins concentrées: la distribution est plus applatis que la distibution normale"
      ]
    },
    {
      "cell_type": "code",
      "metadata": {
        "id": "T8jHW3DveuCZ",
        "colab": {
          "base_uri": "https://localhost:8080/",
          "height": 386
        },
        "outputId": "dbc75532-b3e1-4ef2-d167-2b06fdd630d3"
      },
      "source": [
        "sns.displot(data.Age)"
      ],
      "execution_count": 23,
      "outputs": [
        {
          "output_type": "execute_result",
          "data": {
            "text/plain": [
              "<seaborn.axisgrid.FacetGrid at 0x7f00acfcdeb8>"
            ]
          },
          "metadata": {
            "tags": []
          },
          "execution_count": 23
        },
        {
          "output_type": "display_data",
          "data": {
            "image/png": "[encoded data removed]",
            "text/plain": [
              "<Figure size 360x360 with 1 Axes>"
            ]
          },
          "metadata": {
            "tags": [],
            "needs_background": "light"
          }
        }
      ]
    },
    {
      "cell_type": "code",
      "metadata": {
        "id": "zETHdBXteuKy"
      },
      "source": [
        "sizes=[len(data[data.target==0]),len(data[data.target==1])]\n",
        "labels=[\"Refusées\",\"Accordées\"]\n",
        "explode=(0.5,0)"
      ],
      "execution_count": 24,
      "outputs": []
    },
    {
      "cell_type": "code",
      "metadata": {
        "id": "z9WY-yxbhNy3",
        "colab": {
          "base_uri": "https://localhost:8080/",
          "height": 248
        },
        "outputId": "43d7c0e6-a153-4e30-ca84-155ac6f43148"
      },
      "source": [
        "p=pl.pie(sizes,explode,labels,autopct='%1.1f%%',shadow=True)"
      ],
      "execution_count": 25,
      "outputs": [
        {
          "output_type": "display_data",
          "data": {
            "image/png": "[encoded data removed]",
            "text/plain": [
              "<Figure size 432x288 with 1 Axes>"
            ]
          },
          "metadata": {
            "tags": []
          }
        }
      ]
    },
    {
      "cell_type": "markdown",
      "metadata": {
        "id": "6PyMrDERhO89"
      },
      "source": [
        "data.pivot_table(\"Motorisé\",index=\"target\",columns=\"Sexe\",aggfunc=\"sum\")"
      ]
    }
  ]
}