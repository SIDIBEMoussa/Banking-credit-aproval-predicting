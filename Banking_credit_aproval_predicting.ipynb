{
  "nbformat": 4,
  "nbformat_minor": 0,
  "metadata": {
    "colab": {
      "name": "Banking_credit_aproval_predicting.ipynb",
      "provenance": [],
      "authorship_tag": "ABX9TyMvL3IGl7H4bUUIy9s/RiXf",
      "include_colab_link": true
    },
    "kernelspec": {
      "name": "python3",
      "display_name": "Python 3"
    }
  },
  "cells": [
    {
      "cell_type": "markdown",
      "metadata": {
        "id": "view-in-github",
        "colab_type": "text"
      },
      "source": [
        "<a href=\"https://colab.research.google.com/github/SIDIBEMoussa/Banking-credit-aproval-predicting/blob/main/Banking_credit_aproval_predicting.ipynb\" target=\"_parent\"><img src=\"https://colab.research.google.com/assets/colab-badge.svg\" alt=\"Open In Colab\"/></a>"
      ]
    },
    {
      "cell_type": "code",
      "metadata": {
        "id": "Vyuu5PndeF3U"
      },
      "source": [
        "import pandas as pd"
      ],
      "execution_count": 1,
      "outputs": []
    },
    {
      "cell_type": "code",
      "metadata": {
        "id": "HnOFyXBaea4l"
      },
      "source": [
        "data=pd.read_excel(\"Data.xlsx\")"
      ],
      "execution_count": 2,
      "outputs": []
    },
    {
      "cell_type": "code",
      "metadata": {
        "id": "rKsHw4eFednK"
      },
      "source": [
        "data=data.drop(['Unnamed: 0',\"ID\",\"Approuvée\"],axis=1)\n",
        "data=data.dropna()"
      ],
      "execution_count": 3,
      "outputs": []
    },
    {
      "cell_type": "code",
      "metadata": {
        "id": "6yHm9Yooes1o",
        "colab": {
          "base_uri": "https://localhost:8080/",
          "height": 182
        },
        "outputId": "922cd563-2a50-4b62-d539-527263cf1587"
      },
      "source": [
        "data.head(2)"
      ],
      "execution_count": 4,
      "outputs": [
        {
          "output_type": "execute_result",
          "data": {
            "text/html": [
              "<div>\n",
              "<style scoped>\n",
              "    .dataframe tbody tr th:only-of-type {\n",
              "        vertical-align: middle;\n",
              "    }\n",
              "\n",
              "    .dataframe tbody tr th {\n",
              "        vertical-align: top;\n",
              "    }\n",
              "\n",
              "    .dataframe thead th {\n",
              "        text-align: right;\n",
              "    }\n",
              "</style>\n",
              "<table border=\"1\" class=\"dataframe\">\n",
              "  <thead>\n",
              "    <tr style=\"text-align: right;\">\n",
              "      <th></th>\n",
              "      <th>Sexe</th>\n",
              "      <th>Motorisé</th>\n",
              "      <th>PropriétaireImmobilier</th>\n",
              "      <th>NombreEnfants</th>\n",
              "      <th>RevenuAnnuel</th>\n",
              "      <th>SecteurActivité</th>\n",
              "      <th>NiveauEducation</th>\n",
              "      <th>EtatCivil</th>\n",
              "      <th>TypeLogement</th>\n",
              "      <th>CategorieEmploi</th>\n",
              "      <th>MembreFamille</th>\n",
              "      <th>Age</th>\n",
              "      <th>Experience</th>\n",
              "      <th>target</th>\n",
              "    </tr>\n",
              "  </thead>\n",
              "  <tbody>\n",
              "    <tr>\n",
              "      <th>0</th>\n",
              "      <td>M</td>\n",
              "      <td>Y</td>\n",
              "      <td>Y</td>\n",
              "      <td>0</td>\n",
              "      <td>112500.0</td>\n",
              "      <td>Working</td>\n",
              "      <td>Secondary / secondary special</td>\n",
              "      <td>Married</td>\n",
              "      <td>House / apartment</td>\n",
              "      <td>Security staff</td>\n",
              "      <td>2</td>\n",
              "      <td>58</td>\n",
              "      <td>3</td>\n",
              "      <td>0</td>\n",
              "    </tr>\n",
              "    <tr>\n",
              "      <th>1</th>\n",
              "      <td>F</td>\n",
              "      <td>N</td>\n",
              "      <td>Y</td>\n",
              "      <td>0</td>\n",
              "      <td>270000.0</td>\n",
              "      <td>Commercial associate</td>\n",
              "      <td>Secondary / secondary special</td>\n",
              "      <td>Single / not married</td>\n",
              "      <td>House / apartment</td>\n",
              "      <td>Sales staff</td>\n",
              "      <td>1</td>\n",
              "      <td>52</td>\n",
              "      <td>8</td>\n",
              "      <td>0</td>\n",
              "    </tr>\n",
              "  </tbody>\n",
              "</table>\n",
              "</div>"
            ],
            "text/plain": [
              "  Sexe Motorisé PropriétaireImmobilier  ...  Age  Experience target\n",
              "0    M        Y                      Y  ...   58           3      0\n",
              "1    F        N                      Y  ...   52           8      0\n",
              "\n",
              "[2 rows x 14 columns]"
            ]
          },
          "metadata": {
            "tags": []
          },
          "execution_count": 4
        }
      ]
    },
    {
      "cell_type": "code",
      "metadata": {
        "id": "zrnShKBmetqZ"
      },
      "source": [
        "import seaborn as sns\n",
        "import matplotlib.pyplot as pl\n",
        "import numpy as np"
      ],
      "execution_count": 5,
      "outputs": []
    },
    {
      "cell_type": "code",
      "metadata": {
        "id": "Jzx9Uq57etuT",
        "colab": {
          "base_uri": "https://localhost:8080/",
          "height": 294
        },
        "outputId": "89388956-e33c-4db5-b812-b733e5c05e18"
      },
      "source": [
        "p=pl.hist(data.RevenuAnnuel)\n",
        "a=pl.annotate(\"le point d'arrêt des \\n valeurs coherents\",xy=(0.65*10**6,250),xytext=(800000,1000),arrowprops = {'facecolor': 'red','shrink': 0.1})\n",
        "m=pl.title(\"Mode des Revenues\")"
      ],
      "execution_count": 6,
      "outputs": [
        {
          "output_type": "display_data",
          "data": {
            "image/png": "[encoded data removed]",
            "text/plain": [
              "<Figure size 432x288 with 1 Axes>"
            ]
          },
          "metadata": {
            "tags": [],
            "needs_background": "light"
          }
        }
      ]
    },
    {
      "cell_type": "markdown",
      "metadata": {
        "id": "2IB1Rsj6fKp9"
      },
      "source": [
        "Avec ce histogramme nous pouvons facilement detecter les outliers afin de les enlever sinon plus influent sur les valeurs de tendance centrale et de dispersion"
      ]
    },
    {
      "cell_type": "code",
      "metadata": {
        "id": "l-GtkJ2XetwX"
      },
      "source": [
        "data=data[data.RevenuAnnuel<350000]"
      ],
      "execution_count": 7,
      "outputs": []
    },
    {
      "cell_type": "markdown",
      "metadata": {
        "id": "ladAuWvxfUlM"
      },
      "source": [
        "## Analyse univariée"
      ]
    },
    {
      "cell_type": "markdown",
      "metadata": {
        "id": "T-US6rekfm24"
      },
      "source": [
        "1. Mesures de tendances centrales  et mesures de dispersion\n",
        "2. Visualisation graphiques des données"
      ]
    },
    {
      "cell_type": "code",
      "metadata": {
        "colab": {
          "base_uri": "https://localhost:8080/",
          "height": 521
        },
        "id": "5jU1_3Rdetx2",
        "outputId": "ee742209-3a0d-4847-f803-c2321622719c"
      },
      "source": [
        "pl.figure(figsize=(10,7))\n",
        "sns.boxenplot(\"RevenuAnnuel\",data=data,width=0.9).set_title(\"La distribution des Revenues annuels\",size=25)\n",
        "pl.axis(xmin=26500,xmax=350500)\n",
        "\n",
        "pl.show()"
      ],
      "execution_count": 8,
      "outputs": [
        {
          "output_type": "stream",
          "text": [
            "/usr/local/lib/python3.7/dist-packages/seaborn/_decorators.py:43: FutureWarning: Pass the following variable as a keyword arg: x. From version 0.12, the only valid positional argument will be `data`, and passing other arguments without an explicit keyword will result in an error or misinterpretation.\n",
            "  FutureWarning\n"
          ],
          "name": "stderr"
        },
        {
          "output_type": "display_data",
          "data": {
            "image/png": "[encoded data removed]",
            "text/plain": [
              "<Figure size 720x504 with 1 Axes>"
            ]
          },
          "metadata": {
            "tags": [],
            "needs_background": "light"
          }
        }
      ]
    },
    {
      "cell_type": "markdown",
      "metadata": {
        "id": "3DezwvcyfzXU"
      },
      "source": [
        "Avec ce graphique ci-dessus nous avons une idée globale ci sur la distribution des salaires annuels des clients dont la moyenne est environ 180000"
      ]
    },
    {
      "cell_type": "code",
      "metadata": {
        "id": "7pwPPy_netzV",
        "colab": {
          "base_uri": "https://localhost:8080/"
        },
        "outputId": "b56401d7-9216-4758-c4c0-6bf5a6d3b7fa"
      },
      "source": [
        "round((data.RevenuAnnuel).std())"
      ],
      "execution_count": 9,
      "outputs": [
        {
          "output_type": "execute_result",
          "data": {
            "text/plain": [
              "65579"
            ]
          },
          "metadata": {
            "tags": []
          },
          "execution_count": 9
        }
      ]
    },
    {
      "cell_type": "markdown",
      "metadata": {
        "id": "erqcFZ1XgF3w"
      },
      "source": [
        "# La dispersion autour de la tendance central est std: 65579"
      ]
    },
    {
      "cell_type": "markdown",
      "metadata": {
        "id": "UK-N1m22gLC2"
      },
      "source": [
        "# La dispersion du salaire annuel"
      ]
    },
    {
      "cell_type": "markdown",
      "metadata": {
        "id": "763emWjTgQh0"
      },
      "source": [
        "Alors nous avions une très grande variabilité entre les salaires annuels de nos clients avec plus ou moins des valeurs qui peuvent tourner autour de la moyenne avec une de 65579 ce qui enorme au point de vue salariale alors nous observons une difference de classe sociale entre les clients voulant contracter le crédit"
      ]
    },
    {
      "cell_type": "code",
      "metadata": {
        "id": "3V4-r_ESet0w",
        "colab": {
          "base_uri": "https://localhost:8080/"
        },
        "outputId": "cfa24bc0-d134-4046-c4d1-4dc9c54d7d2a"
      },
      "source": [
        "data.RevenuAnnuel.skew(),data.RevenuAnnuel.kurtosis()"
      ],
      "execution_count": 10,
      "outputs": [
        {
          "output_type": "execute_result",
          "data": {
            "text/plain": [
              "(0.4637152516442095, -0.4807490784268902)"
            ]
          },
          "metadata": {
            "tags": []
          },
          "execution_count": 10
        }
      ]
    },
    {
      "cell_type": "markdown",
      "metadata": {
        "id": "W-URf4ySgbNB"
      },
      "source": [
        "# La forme du Revenu annuel des clients\n",
        "* La plupart de nos clients ont un salaire plus étalé à droite de la moyenne ce qui resulte de la positivité de skewness empirique\n",
        "* Notre variable a des observations moins concentrées: la distribution est plus applatis que la distibution normale"
      ]
    },
    {
      "cell_type": "markdown",
      "metadata": {
        "id": "dCsBUPfRghg4"
      },
      "source": [
        "# Nous allons nous intérêsser dans cette partie à l'âge de nos candidats pour un crédit bancaire"
      ]
    },
    {
      "cell_type": "code",
      "metadata": {
        "id": "XaHyRgdset2v",
        "colab": {
          "base_uri": "https://localhost:8080/",
          "height": 523
        },
        "outputId": "fe3359d1-a35e-45e4-b842-6cb91ba50b3d"
      },
      "source": [
        "pl.figure(figsize=(10,7))\n",
        "sns.boxenplot(\"Age\",data=data,width=0.9).set_title(\"La distribution de l'âge des clients\",size=25)\n",
        "pl.axis(xmin=20,xmax=67)\n",
        "pl.show()"
      ],
      "execution_count": 11,
      "outputs": [
        {
          "output_type": "stream",
          "text": [
            "/usr/local/lib/python3.7/dist-packages/seaborn/_decorators.py:43: FutureWarning: Pass the following variable as a keyword arg: x. From version 0.12, the only valid positional argument will be `data`, and passing other arguments without an explicit keyword will result in an error or misinterpretation.\n",
            "  FutureWarning\n"
          ],
          "name": "stderr"
        },
        {
          "output_type": "display_data",
          "data": {
            "image/png": "[encoded data removed]",
            "text/plain": [
              "<Figure size 720x504 with 1 Axes>"
            ]
          },
          "metadata": {
            "tags": [],
            "needs_background": "light"
          }
        }
      ]
    },
    {
      "cell_type": "markdown",
      "metadata": {
        "id": "cRRKJ8HIgvXP"
      },
      "source": [
        "## Nous avions une clientèle plus concentré dans le tranche d'âge [37 ans - 57 ans] "
      ]
    },
    {
      "cell_type": "code",
      "metadata": {
        "id": "4q_JTpCMet43",
        "colab": {
          "base_uri": "https://localhost:8080/"
        },
        "outputId": "4206bb5d-ab3f-4c75-8653-2e56cc1c7fd9"
      },
      "source": [
        "round(data.Age.std())"
      ],
      "execution_count": 12,
      "outputs": [
        {
          "output_type": "execute_result",
          "data": {
            "text/plain": [
              "10"
            ]
          },
          "metadata": {
            "tags": []
          },
          "execution_count": 12
        }
      ]
    },
    {
      "cell_type": "markdown",
      "metadata": {
        "id": "ZR2f409yg2Y4"
      },
      "source": [
        "## La dispersion de l'âge autour de la tendance central est std: 10"
      ]
    },
    {
      "cell_type": "code",
      "metadata": {
        "id": "yGqyGYoPet7Y",
        "colab": {
          "base_uri": "https://localhost:8080/"
        },
        "outputId": "b339937a-a43e-436f-a7c6-a7017ca12435"
      },
      "source": [
        "data.Age.skew(),data.Age.kurtosis()"
      ],
      "execution_count": 13,
      "outputs": [
        {
          "output_type": "execute_result",
          "data": {
            "text/plain": [
              "(0.28735032524142645, -0.741356087952862)"
            ]
          },
          "metadata": {
            "tags": []
          },
          "execution_count": 13
        }
      ]
    },
    {
      "cell_type": "markdown",
      "metadata": {
        "id": "f46GsHsdg-MJ"
      },
      "source": [
        "# La forme de l'âge des clients\n",
        "* La plupart de nos clients ont un âge plus étalé à droite  de la  moyenne ce qui resulte de la positivité de skewness empirique\n",
        "* Notre variable a des observations moins concentrées: la distribution est plus applatis que la distibution normale"
      ]
    },
    {
      "cell_type": "code",
      "metadata": {
        "colab": {
          "base_uri": "https://localhost:8080/",
          "height": 182
        },
        "id": "YZ8BLPF-jrJ6",
        "outputId": "3f1ccd64-9e36-4e10-8405-8a730fc50faf"
      },
      "source": [
        "data.head(2)"
      ],
      "execution_count": 14,
      "outputs": [
        {
          "output_type": "execute_result",
          "data": {
            "text/html": [
              "<div>\n",
              "<style scoped>\n",
              "    .dataframe tbody tr th:only-of-type {\n",
              "        vertical-align: middle;\n",
              "    }\n",
              "\n",
              "    .dataframe tbody tr th {\n",
              "        vertical-align: top;\n",
              "    }\n",
              "\n",
              "    .dataframe thead th {\n",
              "        text-align: right;\n",
              "    }\n",
              "</style>\n",
              "<table border=\"1\" class=\"dataframe\">\n",
              "  <thead>\n",
              "    <tr style=\"text-align: right;\">\n",
              "      <th></th>\n",
              "      <th>Sexe</th>\n",
              "      <th>Motorisé</th>\n",
              "      <th>PropriétaireImmobilier</th>\n",
              "      <th>NombreEnfants</th>\n",
              "      <th>RevenuAnnuel</th>\n",
              "      <th>SecteurActivité</th>\n",
              "      <th>NiveauEducation</th>\n",
              "      <th>EtatCivil</th>\n",
              "      <th>TypeLogement</th>\n",
              "      <th>CategorieEmploi</th>\n",
              "      <th>MembreFamille</th>\n",
              "      <th>Age</th>\n",
              "      <th>Experience</th>\n",
              "      <th>target</th>\n",
              "    </tr>\n",
              "  </thead>\n",
              "  <tbody>\n",
              "    <tr>\n",
              "      <th>0</th>\n",
              "      <td>M</td>\n",
              "      <td>Y</td>\n",
              "      <td>Y</td>\n",
              "      <td>0</td>\n",
              "      <td>112500.0</td>\n",
              "      <td>Working</td>\n",
              "      <td>Secondary / secondary special</td>\n",
              "      <td>Married</td>\n",
              "      <td>House / apartment</td>\n",
              "      <td>Security staff</td>\n",
              "      <td>2</td>\n",
              "      <td>58</td>\n",
              "      <td>3</td>\n",
              "      <td>0</td>\n",
              "    </tr>\n",
              "    <tr>\n",
              "      <th>1</th>\n",
              "      <td>F</td>\n",
              "      <td>N</td>\n",
              "      <td>Y</td>\n",
              "      <td>0</td>\n",
              "      <td>270000.0</td>\n",
              "      <td>Commercial associate</td>\n",
              "      <td>Secondary / secondary special</td>\n",
              "      <td>Single / not married</td>\n",
              "      <td>House / apartment</td>\n",
              "      <td>Sales staff</td>\n",
              "      <td>1</td>\n",
              "      <td>52</td>\n",
              "      <td>8</td>\n",
              "      <td>0</td>\n",
              "    </tr>\n",
              "  </tbody>\n",
              "</table>\n",
              "</div>"
            ],
            "text/plain": [
              "  Sexe Motorisé PropriétaireImmobilier  ...  Age  Experience target\n",
              "0    M        Y                      Y  ...   58           3      0\n",
              "1    F        N                      Y  ...   52           8      0\n",
              "\n",
              "[2 rows x 14 columns]"
            ]
          },
          "metadata": {
            "tags": []
          },
          "execution_count": 14
        }
      ]
    },
    {
      "cell_type": "code",
      "metadata": {
        "colab": {
          "base_uri": "https://localhost:8080/",
          "height": 615
        },
        "id": "UWBDTiE5goby",
        "outputId": "76d32c0c-2df8-4504-fc12-eef41ad2d4c1"
      },
      "source": [
        "pl.figure(figsize=(10,7))\n",
        "pl.rcParams.update({\"font.size\":13})\n",
        "sns.histplot(data=data.SecteurActivité).set_title(\"Demandeur par secteurs d'activité\")\n",
        "pl.xticks(rotation=90)"
      ],
      "execution_count": 15,
      "outputs": [
        {
          "output_type": "execute_result",
          "data": {
            "text/plain": [
              "([0, 1, 2, 3, 4], <a list of 5 Text major ticklabel objects>)"
            ]
          },
          "metadata": {
            "tags": []
          },
          "execution_count": 15
        },
        {
          "output_type": "display_data",
          "data": {
            "image/png": "[encoded data removed]",
            "text/plain": [
              "<Figure size 720x504 with 1 Axes>"
            ]
          },
          "metadata": {
            "tags": [],
            "needs_background": "light"
          }
        }
      ]
    },
    {
      "cell_type": "markdown",
      "metadata": {
        "id": "DhObmeioqilv"
      },
      "source": [
        "Alors nous les demandeurs de crédits sont en une écrasante majorité des travailleurs, il s'en suit des associer commerciaux et puis les agents d'Etat. Les étudiants et les pensionneurs sont minimes vu leurs chances d'obtention tout autant faible."
      ]
    },
    {
      "cell_type": "code",
      "metadata": {
        "colab": {
          "base_uri": "https://localhost:8080/",
          "height": 670
        },
        "id": "_BiAelAnixtX",
        "outputId": "3db1c379-d019-4dda-cebc-b9c3562354d2"
      },
      "source": [
        "pl.figure(figsize=(10,7))\n",
        "pl.rcParams.update({\"font.size\":13})\n",
        "sns.histplot(data=data.NiveauEducation).set_title(\"Demandeur par Niveau d'éducation\")\n",
        "pl.xticks(rotation=90)"
      ],
      "execution_count": 16,
      "outputs": [
        {
          "output_type": "execute_result",
          "data": {
            "text/plain": [
              "([0, 1, 2, 3, 4], <a list of 5 Text major ticklabel objects>)"
            ]
          },
          "metadata": {
            "tags": []
          },
          "execution_count": 16
        },
        {
          "output_type": "display_data",
          "data": {
            "image/png": "[encoded data removed]",
            "text/plain": [
              "<Figure size 720x504 with 1 Axes>"
            ]
          },
          "metadata": {
            "tags": [],
            "needs_background": "light"
          }
        }
      ]
    },
    {
      "cell_type": "markdown",
      "metadata": {
        "id": "sBL9rB_HvTLm"
      },
      "source": [
        "Parmis les clients nous avons une large majorité ayant un niveau d'étude de secondaire ou un diplôme professionnelle. Après, ceux ayant obtenu leurs diplômes d'études supérieures et ensuite ayant fait un arrêt en chémin. Enfin les candidats diminue plus le niveau d'éducation baisse."
      ]
    },
    {
      "cell_type": "code",
      "metadata": {
        "colab": {
          "base_uri": "https://localhost:8080/",
          "height": 483
        },
        "id": "CaLJCHVAkUzo",
        "outputId": "07a44ee7-e3b8-45f7-f9b2-f8adc77d1cd0"
      },
      "source": [
        "pl.figure(figsize=(10,7))\n",
        "pl.rcParams.update({\"font.size\":13})\n",
        "sns.histplot(data=data.Motorisé).set_title(\"Demandeur par statut d'automobile\")"
      ],
      "execution_count": 17,
      "outputs": [
        {
          "output_type": "execute_result",
          "data": {
            "text/plain": [
              "Text(0.5, 1.0, \"Demandeur par statut d'automobile\")"
            ]
          },
          "metadata": {
            "tags": []
          },
          "execution_count": 17
        },
        {
          "output_type": "display_data",
          "data": {
            "image/png": "[encoded data removed]",
            "text/plain": [
              "<Figure size 720x504 with 1 Axes>"
            ]
          },
          "metadata": {
            "tags": [],
            "needs_background": "light"
          }
        }
      ]
    },
    {
      "cell_type": "markdown",
      "metadata": {
        "id": "ocaBxauWyS9J"
      },
      "source": [
        "Nous assez de personnes n'ayant pas de un engin motorisé"
      ]
    },
    {
      "cell_type": "code",
      "metadata": {
        "colab": {
          "base_uri": "https://localhost:8080/",
          "height": 483
        },
        "id": "HDxkmpz2keh8",
        "outputId": "342c79ea-0b1e-44db-8754-c28dca299907"
      },
      "source": [
        "pl.figure(figsize=(10,7))\n",
        "pl.rcParams.update({\"font.size\":13})\n",
        "sns.histplot(data=data.Sexe).set_title(\"Catégorisation par Sexe\")\n",
        "pl.xticks(rotation=90)"
      ],
      "execution_count": 18,
      "outputs": [
        {
          "output_type": "execute_result",
          "data": {
            "text/plain": [
              "([0, 1], <a list of 2 Text major ticklabel objects>)"
            ]
          },
          "metadata": {
            "tags": []
          },
          "execution_count": 18
        },
        {
          "output_type": "display_data",
          "data": {
            "image/png": "[encoded data removed]",
            "text/plain": [
              "<Figure size 720x504 with 1 Axes>"
            ]
          },
          "metadata": {
            "tags": [],
            "needs_background": "light"
          }
        }
      ]
    },
    {
      "cell_type": "markdown",
      "metadata": {
        "id": "vlxBvf--yqwi"
      },
      "source": [
        "Les femmes représentent presque le double des hommes demandant un crédit bancaire"
      ]
    },
    {
      "cell_type": "code",
      "metadata": {
        "colab": {
          "base_uri": "https://localhost:8080/",
          "height": 483
        },
        "id": "S3S8r0MXklHt",
        "outputId": "c6313cec-cb6d-44bb-8caf-fa0293af3c66"
      },
      "source": [
        "pl.figure(figsize=(10,7))\n",
        "pl.rcParams.update({\"font.size\":13})\n",
        "sns.histplot(data=data.PropriétaireImmobilier).set_title(\"Demandeurs ayant un bien immobilier\")"
      ],
      "execution_count": 19,
      "outputs": [
        {
          "output_type": "execute_result",
          "data": {
            "text/plain": [
              "Text(0.5, 1.0, 'Demandeurs ayant un bien immobilier')"
            ]
          },
          "metadata": {
            "tags": []
          },
          "execution_count": 19
        },
        {
          "output_type": "display_data",
          "data": {
            "image/png": "[encoded data removed]",
            "text/plain": [
              "<Figure size 720x504 with 1 Axes>"
            ]
          },
          "metadata": {
            "tags": [],
            "needs_background": "light"
          }
        }
      ]
    },
    {
      "cell_type": "code",
      "metadata": {
        "colab": {
          "base_uri": "https://localhost:8080/",
          "height": 582
        },
        "id": "yX8RQJYrk7DM",
        "outputId": "d8e8b319-de66-499d-c97e-807f364d2ba8"
      },
      "source": [
        "pl.figure(figsize=(10,7))\n",
        "pl.rcParams.update({\"font.size\":13})\n",
        "sns.histplot(x=\"EtatCivil\",hue=\"Sexe\",data=data)\n",
        "pl.xticks(rotation=90)"
      ],
      "execution_count": 20,
      "outputs": [
        {
          "output_type": "execute_result",
          "data": {
            "text/plain": [
              "([0, 1, 2, 3, 4], <a list of 5 Text major ticklabel objects>)"
            ]
          },
          "metadata": {
            "tags": []
          },
          "execution_count": 20
        },
        {
          "output_type": "display_data",
          "data": {
            "image/png": "[encoded data removed]",
            "text/plain": [
              "<Figure size 720x504 with 1 Axes>"
            ]
          },
          "metadata": {
            "tags": [],
            "needs_background": "light"
          }
        }
      ]
    },
    {
      "cell_type": "markdown",
      "metadata": {
        "id": "eOBIlPcv1zLJ"
      },
      "source": [
        "Tout aussi logique les marriés sont nombreux à vouloir contracter un crédit car très souvent des visions communes ou des achats des bien immobiliers nécéssitant un engagement auprès des sociètés de crédits, ensuite les célibataires et des gens ayant un engagement civil les conférants quelques droits et dévoirs du mariage"
      ]
    },
    {
      "cell_type": "code",
      "metadata": {
        "colab": {
          "base_uri": "https://localhost:8080/",
          "height": 483
        },
        "id": "y7imispSo1o_",
        "outputId": "822f8ac8-263b-4074-cb47-c853ac1fb8e9"
      },
      "source": [
        "pl.figure(figsize=(10,7))\n",
        "pl.rcParams.update({\"font.size\":13})\n",
        "pl.subplot(121)\n",
        "sns.histplot(data=data,x=\"NombreEnfants\").set_title(\"Nombre d'enfant par demandeur\")\n",
        "pl.axis(xmin=-0.3,xmax=4)\n",
        "pl.subplot(122)\n",
        "sns.boxenplot(data=data,x=\"NombreEnfants\").set_title(\"Nombre d'enfant par demandeur\")\n",
        "pl.axis(xmin=-0.3,xmax=4)"
      ],
      "execution_count": 21,
      "outputs": [
        {
          "output_type": "execute_result",
          "data": {
            "text/plain": [
              "(-0.3, 4.0, 0.5, -0.5)"
            ]
          },
          "metadata": {
            "tags": []
          },
          "execution_count": 21
        },
        {
          "output_type": "display_data",
          "data": {
            "image/png": "[encoded data removed]",
            "text/plain": [
              "<Figure size 720x504 with 2 Axes>"
            ]
          },
          "metadata": {
            "tags": [],
            "needs_background": "light"
          }
        }
      ]
    },
    {
      "cell_type": "markdown",
      "metadata": {
        "id": "pY08PmYp8xwt"
      },
      "source": [
        "La majorité des candidats non pas d'enfant et ensuite la population diminue plus le nombre d'enfant augmente."
      ]
    },
    {
      "cell_type": "code",
      "metadata": {
        "colab": {
          "base_uri": "https://localhost:8080/",
          "height": 606
        },
        "id": "ngr2uoSilBf1",
        "outputId": "2024a15b-9b10-4fbe-a1f5-c9922e3fad84"
      },
      "source": [
        "pl.figure(figsize=(10,7))\n",
        "pl.rcParams.update({\"font.size\":13})\n",
        "sns.histplot(data=data.TypeLogement).set_title(\"Nombre de demandeur par Type de logement\")\n",
        "pl.xticks(rotation=90)"
      ],
      "execution_count": 22,
      "outputs": [
        {
          "output_type": "execute_result",
          "data": {
            "text/plain": [
              "([0, 1, 2, 3, 4, 5], <a list of 6 Text major ticklabel objects>)"
            ]
          },
          "metadata": {
            "tags": []
          },
          "execution_count": 22
        },
        {
          "output_type": "display_data",
          "data": {
            "image/png": "[encoded data removed]",
            "text/plain": [
              "<Figure size 720x504 with 1 Axes>"
            ]
          },
          "metadata": {
            "tags": [],
            "needs_background": "light"
          }
        }
      ]
    },
    {
      "cell_type": "markdown",
      "metadata": {
        "id": "ogJBJlrGCMPL"
      },
      "source": [
        "La plupart des personnes ont habite dans une maison, ensuite on a ceux qui vivent dans l'appartement familliale"
      ]
    },
    {
      "cell_type": "code",
      "metadata": {
        "colab": {
          "base_uri": "https://localhost:8080/",
          "height": 558
        },
        "id": "RrFEB0sFlNu5",
        "outputId": "f13585b9-9370-4199-8de9-067a4b7a87a5"
      },
      "source": [
        "pl.figure(figsize=(10,7))\n",
        "pl.rcParams.update({\"font.size\":13})\n",
        "sns.histplot(data=data.CategorieEmploi).set_title(\"Nombre de demandeur par Type de travail\")\n",
        "pl.xticks(rotation=90)"
      ],
      "execution_count": 23,
      "outputs": [
        {
          "output_type": "execute_result",
          "data": {
            "text/plain": [
              "([0, 1, 2], <a list of 3 Text major ticklabel objects>)"
            ]
          },
          "metadata": {
            "tags": []
          },
          "execution_count": 23
        },
        {
          "output_type": "display_data",
          "data": {
            "image/png": "[encoded data removed]",
            "text/plain": [
              "<Figure size 720x504 with 1 Axes>"
            ]
          },
          "metadata": {
            "tags": [],
            "needs_background": "light"
          }
        }
      ]
    },
    {
      "cell_type": "markdown",
      "metadata": {
        "id": "M8ZdFMZPMH8c"
      },
      "source": [
        "Les comptables sont surrepresentés, ils sont quasiment tous des comptables."
      ]
    },
    {
      "cell_type": "code",
      "metadata": {
        "colab": {
          "base_uri": "https://localhost:8080/",
          "height": 324
        },
        "id": "R1JMJmW8lVxH",
        "outputId": "52bfc968-adba-4a9e-9efb-bc7607e9039a"
      },
      "source": [
        "sns.histplot(data=data.Experience)\n",
        "pl.xticks(rotation=90)"
      ],
      "execution_count": 24,
      "outputs": [
        {
          "output_type": "execute_result",
          "data": {
            "text/plain": [
              "(array([-10.,   0.,  10.,  20.,  30.,  40.,  50.]),\n",
              " <a list of 7 Text major ticklabel objects>)"
            ]
          },
          "metadata": {
            "tags": []
          },
          "execution_count": 24
        },
        {
          "output_type": "display_data",
          "data": {
            "image/png": "[encoded data removed]",
            "text/plain": [
              "<Figure size 432x288 with 1 Axes>"
            ]
          },
          "metadata": {
            "tags": [],
            "needs_background": "light"
          }
        }
      ]
    },
    {
      "cell_type": "markdown",
      "metadata": {
        "id": "_NY7hhS6Y60C"
      },
      "source": [
        "Nous observons des candidats majoritairement en debut carrière proféssionnelle tandis que les véterans très peu à vouloir contracter une dette"
      ]
    },
    {
      "cell_type": "markdown",
      "metadata": {
        "id": "lO-Fg-KHaA29"
      },
      "source": [
        "# Analyse multivariée"
      ]
    },
    {
      "cell_type": "code",
      "metadata": {
        "id": "zETHdBXteuKy"
      },
      "source": [
        "sizes=[len(data[data.target==0]),len(data[data.target==1])]\n",
        "labels=[\"Refusées\",\"Accordées\"]\n",
        "explode=(0.5,0)"
      ],
      "execution_count": 25,
      "outputs": []
    },
    {
      "cell_type": "code",
      "metadata": {
        "id": "z9WY-yxbhNy3",
        "colab": {
          "base_uri": "https://localhost:8080/",
          "height": 248
        },
        "outputId": "5804f41a-8eb8-41f4-aa08-542cfebc79e6"
      },
      "source": [
        "p=pl.pie(sizes,explode,labels,autopct='%1.1f%%',shadow=True)"
      ],
      "execution_count": 26,
      "outputs": [
        {
          "output_type": "display_data",
          "data": {
            "image/png": "[encoded data removed]",
            "text/plain": [
              "<Figure size 432x288 with 1 Axes>"
            ]
          },
          "metadata": {
            "tags": []
          }
        }
      ]
    },
    {
      "cell_type": "markdown",
      "metadata": {
        "id": "6PyMrDERhO89"
      },
      "source": [
        "data.pivot_table(\"Motorisé\",index=\"target\",columns=\"Sexe\",aggfunc=\"sum\")"
      ]
    },
    {
      "cell_type": "code",
      "metadata": {
        "id": "zs5BthvR-XjR"
      },
      "source": [
        "from sklearn.model_selection import train_test_split as tts"
      ],
      "execution_count": 27,
      "outputs": []
    },
    {
      "cell_type": "code",
      "metadata": {
        "id": "cm87Jv7d-q6y",
        "outputId": "c9c1459a-adcc-4f25-8899-afa0ed2f7258",
        "colab": {
          "base_uri": "https://localhost:8080/"
        }
      },
      "source": [
        "data.columns"
      ],
      "execution_count": 28,
      "outputs": [
        {
          "output_type": "execute_result",
          "data": {
            "text/plain": [
              "Index(['Sexe', 'Motorisé', 'PropriétaireImmobilier', 'NombreEnfants',\n",
              "       'RevenuAnnuel', 'SecteurActivité', 'NiveauEducation', 'EtatCivil',\n",
              "       'TypeLogement', 'CategorieEmploi', 'MembreFamille', 'Age', 'Experience',\n",
              "       'target'],\n",
              "      dtype='object')"
            ]
          },
          "metadata": {
            "tags": []
          },
          "execution_count": 28
        }
      ]
    },
    {
      "cell_type": "code",
      "metadata": {
        "id": "yqLBnniLB9mu",
        "outputId": "75bc4178-35bc-4bf6-8231-31632470d4ab",
        "colab": {
          "base_uri": "https://localhost:8080/",
          "height": 377
        }
      },
      "source": [
        "data.head()"
      ],
      "execution_count": 29,
      "outputs": [
        {
          "output_type": "execute_result",
          "data": {
            "text/html": [
              "<div>\n",
              "<style scoped>\n",
              "    .dataframe tbody tr th:only-of-type {\n",
              "        vertical-align: middle;\n",
              "    }\n",
              "\n",
              "    .dataframe tbody tr th {\n",
              "        vertical-align: top;\n",
              "    }\n",
              "\n",
              "    .dataframe thead th {\n",
              "        text-align: right;\n",
              "    }\n",
              "</style>\n",
              "<table border=\"1\" class=\"dataframe\">\n",
              "  <thead>\n",
              "    <tr style=\"text-align: right;\">\n",
              "      <th></th>\n",
              "      <th>Sexe</th>\n",
              "      <th>Motorisé</th>\n",
              "      <th>PropriétaireImmobilier</th>\n",
              "      <th>NombreEnfants</th>\n",
              "      <th>RevenuAnnuel</th>\n",
              "      <th>SecteurActivité</th>\n",
              "      <th>NiveauEducation</th>\n",
              "      <th>EtatCivil</th>\n",
              "      <th>TypeLogement</th>\n",
              "      <th>CategorieEmploi</th>\n",
              "      <th>MembreFamille</th>\n",
              "      <th>Age</th>\n",
              "      <th>Experience</th>\n",
              "      <th>target</th>\n",
              "    </tr>\n",
              "  </thead>\n",
              "  <tbody>\n",
              "    <tr>\n",
              "      <th>0</th>\n",
              "      <td>M</td>\n",
              "      <td>Y</td>\n",
              "      <td>Y</td>\n",
              "      <td>0</td>\n",
              "      <td>112500.0</td>\n",
              "      <td>Working</td>\n",
              "      <td>Secondary / secondary special</td>\n",
              "      <td>Married</td>\n",
              "      <td>House / apartment</td>\n",
              "      <td>Security staff</td>\n",
              "      <td>2</td>\n",
              "      <td>58</td>\n",
              "      <td>3</td>\n",
              "      <td>0</td>\n",
              "    </tr>\n",
              "    <tr>\n",
              "      <th>1</th>\n",
              "      <td>F</td>\n",
              "      <td>N</td>\n",
              "      <td>Y</td>\n",
              "      <td>0</td>\n",
              "      <td>270000.0</td>\n",
              "      <td>Commercial associate</td>\n",
              "      <td>Secondary / secondary special</td>\n",
              "      <td>Single / not married</td>\n",
              "      <td>House / apartment</td>\n",
              "      <td>Sales staff</td>\n",
              "      <td>1</td>\n",
              "      <td>52</td>\n",
              "      <td>8</td>\n",
              "      <td>0</td>\n",
              "    </tr>\n",
              "    <tr>\n",
              "      <th>2</th>\n",
              "      <td>F</td>\n",
              "      <td>N</td>\n",
              "      <td>Y</td>\n",
              "      <td>0</td>\n",
              "      <td>270000.0</td>\n",
              "      <td>Commercial associate</td>\n",
              "      <td>Secondary / secondary special</td>\n",
              "      <td>Single / not married</td>\n",
              "      <td>House / apartment</td>\n",
              "      <td>Sales staff</td>\n",
              "      <td>1</td>\n",
              "      <td>52</td>\n",
              "      <td>8</td>\n",
              "      <td>0</td>\n",
              "    </tr>\n",
              "    <tr>\n",
              "      <th>3</th>\n",
              "      <td>F</td>\n",
              "      <td>N</td>\n",
              "      <td>Y</td>\n",
              "      <td>0</td>\n",
              "      <td>270000.0</td>\n",
              "      <td>Commercial associate</td>\n",
              "      <td>Secondary / secondary special</td>\n",
              "      <td>Single / not married</td>\n",
              "      <td>House / apartment</td>\n",
              "      <td>Sales staff</td>\n",
              "      <td>1</td>\n",
              "      <td>52</td>\n",
              "      <td>8</td>\n",
              "      <td>0</td>\n",
              "    </tr>\n",
              "    <tr>\n",
              "      <th>4</th>\n",
              "      <td>F</td>\n",
              "      <td>N</td>\n",
              "      <td>Y</td>\n",
              "      <td>0</td>\n",
              "      <td>270000.0</td>\n",
              "      <td>Commercial associate</td>\n",
              "      <td>Secondary / secondary special</td>\n",
              "      <td>Single / not married</td>\n",
              "      <td>House / apartment</td>\n",
              "      <td>Sales staff</td>\n",
              "      <td>1</td>\n",
              "      <td>52</td>\n",
              "      <td>8</td>\n",
              "      <td>0</td>\n",
              "    </tr>\n",
              "  </tbody>\n",
              "</table>\n",
              "</div>"
            ],
            "text/plain": [
              "  Sexe Motorisé PropriétaireImmobilier  ...  Age  Experience target\n",
              "0    M        Y                      Y  ...   58           3      0\n",
              "1    F        N                      Y  ...   52           8      0\n",
              "2    F        N                      Y  ...   52           8      0\n",
              "3    F        N                      Y  ...   52           8      0\n",
              "4    F        N                      Y  ...   52           8      0\n",
              "\n",
              "[5 rows x 14 columns]"
            ]
          },
          "metadata": {
            "tags": []
          },
          "execution_count": 29
        }
      ]
    },
    {
      "cell_type": "code",
      "metadata": {
        "id": "P_3FoBCvAs5n"
      },
      "source": [
        "cat_cols=['Sexe','Motorisé','PropriétaireImmobilier','SecteurActivité','NiveauEducation','EtatCivil','TypeLogement','CategorieEmploi']\n",
        "num_cols=['NombreEnfants','RevenuAnnuel','MembreFamille','Age','Experience','target']"
      ],
      "execution_count": 30,
      "outputs": []
    },
    {
      "cell_type": "code",
      "metadata": {
        "id": "r8GNnMQ5-3BZ"
      },
      "source": [
        "data[cat_cols]=data[cat_cols].astype(\"category\")"
      ],
      "execution_count": 31,
      "outputs": []
    },
    {
      "cell_type": "code",
      "metadata": {
        "id": "ObrzOqED-2Tp"
      },
      "source": [
        "data=pd.get_dummies(data=data, columns=cat_cols)"
      ],
      "execution_count": 32,
      "outputs": []
    },
    {
      "cell_type": "code",
      "metadata": {
        "id": "pvjxPArAcYu3",
        "outputId": "4d8087c5-24ae-40fb-8edd-a7aa90a1be9a",
        "colab": {
          "base_uri": "https://localhost:8080/",
          "height": 241
        }
      },
      "source": [
        "data.head()"
      ],
      "execution_count": 35,
      "outputs": [
        {
          "output_type": "execute_result",
          "data": {
            "text/html": [
              "<div>\n",
              "<style scoped>\n",
              "    .dataframe tbody tr th:only-of-type {\n",
              "        vertical-align: middle;\n",
              "    }\n",
              "\n",
              "    .dataframe tbody tr th {\n",
              "        vertical-align: top;\n",
              "    }\n",
              "\n",
              "    .dataframe thead th {\n",
              "        text-align: right;\n",
              "    }\n",
              "</style>\n",
              "<table border=\"1\" class=\"dataframe\">\n",
              "  <thead>\n",
              "    <tr style=\"text-align: right;\">\n",
              "      <th></th>\n",
              "      <th>NombreEnfants</th>\n",
              "      <th>RevenuAnnuel</th>\n",
              "      <th>MembreFamille</th>\n",
              "      <th>Age</th>\n",
              "      <th>Experience</th>\n",
              "      <th>target</th>\n",
              "      <th>Sexe_F</th>\n",
              "      <th>Sexe_M</th>\n",
              "      <th>Motorisé_N</th>\n",
              "      <th>Motorisé_Y</th>\n",
              "      <th>PropriétaireImmobilier_N</th>\n",
              "      <th>PropriétaireImmobilier_Y</th>\n",
              "      <th>SecteurActivité_Commercial associate</th>\n",
              "      <th>SecteurActivité_Pensioner</th>\n",
              "      <th>SecteurActivité_State servant</th>\n",
              "      <th>SecteurActivité_Student</th>\n",
              "      <th>SecteurActivité_Working</th>\n",
              "      <th>NiveauEducation_Academic degree</th>\n",
              "      <th>NiveauEducation_Higher education</th>\n",
              "      <th>NiveauEducation_Incomplete higher</th>\n",
              "      <th>NiveauEducation_Lower secondary</th>\n",
              "      <th>NiveauEducation_Secondary / secondary special</th>\n",
              "      <th>EtatCivil_Civil marriage</th>\n",
              "      <th>EtatCivil_Married</th>\n",
              "      <th>EtatCivil_Separated</th>\n",
              "      <th>EtatCivil_Single / not married</th>\n",
              "      <th>EtatCivil_Widow</th>\n",
              "      <th>TypeLogement_Co-op apartment</th>\n",
              "      <th>TypeLogement_House / apartment</th>\n",
              "      <th>TypeLogement_Municipal apartment</th>\n",
              "      <th>TypeLogement_Office apartment</th>\n",
              "      <th>TypeLogement_Rented apartment</th>\n",
              "      <th>TypeLogement_With parents</th>\n",
              "      <th>CategorieEmploi_Accountants</th>\n",
              "      <th>CategorieEmploi_Sales staff</th>\n",
              "      <th>CategorieEmploi_Security staff</th>\n",
              "    </tr>\n",
              "  </thead>\n",
              "  <tbody>\n",
              "    <tr>\n",
              "      <th>0</th>\n",
              "      <td>0</td>\n",
              "      <td>112500.0</td>\n",
              "      <td>2</td>\n",
              "      <td>58</td>\n",
              "      <td>3</td>\n",
              "      <td>0</td>\n",
              "      <td>0</td>\n",
              "      <td>1</td>\n",
              "      <td>0</td>\n",
              "      <td>1</td>\n",
              "      <td>0</td>\n",
              "      <td>1</td>\n",
              "      <td>0</td>\n",
              "      <td>0</td>\n",
              "      <td>0</td>\n",
              "      <td>0</td>\n",
              "      <td>1</td>\n",
              "      <td>0</td>\n",
              "      <td>0</td>\n",
              "      <td>0</td>\n",
              "      <td>0</td>\n",
              "      <td>1</td>\n",
              "      <td>0</td>\n",
              "      <td>1</td>\n",
              "      <td>0</td>\n",
              "      <td>0</td>\n",
              "      <td>0</td>\n",
              "      <td>0</td>\n",
              "      <td>1</td>\n",
              "      <td>0</td>\n",
              "      <td>0</td>\n",
              "      <td>0</td>\n",
              "      <td>0</td>\n",
              "      <td>0</td>\n",
              "      <td>0</td>\n",
              "      <td>1</td>\n",
              "    </tr>\n",
              "    <tr>\n",
              "      <th>1</th>\n",
              "      <td>0</td>\n",
              "      <td>270000.0</td>\n",
              "      <td>1</td>\n",
              "      <td>52</td>\n",
              "      <td>8</td>\n",
              "      <td>0</td>\n",
              "      <td>1</td>\n",
              "      <td>0</td>\n",
              "      <td>1</td>\n",
              "      <td>0</td>\n",
              "      <td>0</td>\n",
              "      <td>1</td>\n",
              "      <td>1</td>\n",
              "      <td>0</td>\n",
              "      <td>0</td>\n",
              "      <td>0</td>\n",
              "      <td>0</td>\n",
              "      <td>0</td>\n",
              "      <td>0</td>\n",
              "      <td>0</td>\n",
              "      <td>0</td>\n",
              "      <td>1</td>\n",
              "      <td>0</td>\n",
              "      <td>0</td>\n",
              "      <td>0</td>\n",
              "      <td>1</td>\n",
              "      <td>0</td>\n",
              "      <td>0</td>\n",
              "      <td>1</td>\n",
              "      <td>0</td>\n",
              "      <td>0</td>\n",
              "      <td>0</td>\n",
              "      <td>0</td>\n",
              "      <td>0</td>\n",
              "      <td>1</td>\n",
              "      <td>0</td>\n",
              "    </tr>\n",
              "    <tr>\n",
              "      <th>2</th>\n",
              "      <td>0</td>\n",
              "      <td>270000.0</td>\n",
              "      <td>1</td>\n",
              "      <td>52</td>\n",
              "      <td>8</td>\n",
              "      <td>0</td>\n",
              "      <td>1</td>\n",
              "      <td>0</td>\n",
              "      <td>1</td>\n",
              "      <td>0</td>\n",
              "      <td>0</td>\n",
              "      <td>1</td>\n",
              "      <td>1</td>\n",
              "      <td>0</td>\n",
              "      <td>0</td>\n",
              "      <td>0</td>\n",
              "      <td>0</td>\n",
              "      <td>0</td>\n",
              "      <td>0</td>\n",
              "      <td>0</td>\n",
              "      <td>0</td>\n",
              "      <td>1</td>\n",
              "      <td>0</td>\n",
              "      <td>0</td>\n",
              "      <td>0</td>\n",
              "      <td>1</td>\n",
              "      <td>0</td>\n",
              "      <td>0</td>\n",
              "      <td>1</td>\n",
              "      <td>0</td>\n",
              "      <td>0</td>\n",
              "      <td>0</td>\n",
              "      <td>0</td>\n",
              "      <td>0</td>\n",
              "      <td>1</td>\n",
              "      <td>0</td>\n",
              "    </tr>\n",
              "    <tr>\n",
              "      <th>3</th>\n",
              "      <td>0</td>\n",
              "      <td>270000.0</td>\n",
              "      <td>1</td>\n",
              "      <td>52</td>\n",
              "      <td>8</td>\n",
              "      <td>0</td>\n",
              "      <td>1</td>\n",
              "      <td>0</td>\n",
              "      <td>1</td>\n",
              "      <td>0</td>\n",
              "      <td>0</td>\n",
              "      <td>1</td>\n",
              "      <td>1</td>\n",
              "      <td>0</td>\n",
              "      <td>0</td>\n",
              "      <td>0</td>\n",
              "      <td>0</td>\n",
              "      <td>0</td>\n",
              "      <td>0</td>\n",
              "      <td>0</td>\n",
              "      <td>0</td>\n",
              "      <td>1</td>\n",
              "      <td>0</td>\n",
              "      <td>0</td>\n",
              "      <td>0</td>\n",
              "      <td>1</td>\n",
              "      <td>0</td>\n",
              "      <td>0</td>\n",
              "      <td>1</td>\n",
              "      <td>0</td>\n",
              "      <td>0</td>\n",
              "      <td>0</td>\n",
              "      <td>0</td>\n",
              "      <td>0</td>\n",
              "      <td>1</td>\n",
              "      <td>0</td>\n",
              "    </tr>\n",
              "    <tr>\n",
              "      <th>4</th>\n",
              "      <td>0</td>\n",
              "      <td>270000.0</td>\n",
              "      <td>1</td>\n",
              "      <td>52</td>\n",
              "      <td>8</td>\n",
              "      <td>0</td>\n",
              "      <td>1</td>\n",
              "      <td>0</td>\n",
              "      <td>1</td>\n",
              "      <td>0</td>\n",
              "      <td>0</td>\n",
              "      <td>1</td>\n",
              "      <td>1</td>\n",
              "      <td>0</td>\n",
              "      <td>0</td>\n",
              "      <td>0</td>\n",
              "      <td>0</td>\n",
              "      <td>0</td>\n",
              "      <td>0</td>\n",
              "      <td>0</td>\n",
              "      <td>0</td>\n",
              "      <td>1</td>\n",
              "      <td>0</td>\n",
              "      <td>0</td>\n",
              "      <td>0</td>\n",
              "      <td>1</td>\n",
              "      <td>0</td>\n",
              "      <td>0</td>\n",
              "      <td>1</td>\n",
              "      <td>0</td>\n",
              "      <td>0</td>\n",
              "      <td>0</td>\n",
              "      <td>0</td>\n",
              "      <td>0</td>\n",
              "      <td>1</td>\n",
              "      <td>0</td>\n",
              "    </tr>\n",
              "  </tbody>\n",
              "</table>\n",
              "</div>"
            ],
            "text/plain": [
              "   NombreEnfants  ...  CategorieEmploi_Security staff\n",
              "0              0  ...                               1\n",
              "1              0  ...                               0\n",
              "2              0  ...                               0\n",
              "3              0  ...                               0\n",
              "4              0  ...                               0\n",
              "\n",
              "[5 rows x 36 columns]"
            ]
          },
          "metadata": {
            "tags": []
          },
          "execution_count": 35
        }
      ]
    },
    {
      "cell_type": "code",
      "metadata": {
        "id": "9UbaVYKWcqyI"
      },
      "source": [
        "X=data[data.columns.difference([\"target\"])]\n",
        "Y=data.target"
      ],
      "execution_count": 39,
      "outputs": []
    },
    {
      "cell_type": "code",
      "metadata": {
        "id": "O-sWi7THdyu_"
      },
      "source": [
        "x_train,x_test,y_train,y_test=tts(X,Y,train_size=0.7)"
      ],
      "execution_count": 41,
      "outputs": []
    },
    {
      "cell_type": "code",
      "metadata": {
        "id": "xMn516mLhj9L"
      },
      "source": [
        "from sklearn.metrics import accuracy_score\n",
        "from sklearn.neighbors import KNeighborsClassifier\n",
        "from sklearn.svm import SVC\n",
        "from sklearn.linear_model import LogisticRegression\n",
        "from sklearn.ensemble import RandomForestClassifier\n",
        "from sklearn.neural_network import MLPClassifier\n",
        "from sklearn.discriminant_analysis import LinearDiscriminantAnalysis,QuadraticDiscriminantAnalysis\n",
        "from xgboost import XGBClassifier\n",
        "\n",
        "\n",
        "Classifiers=[KNeighborsClassifier,SVC,LogisticRegression,RandomForestClassifier,RandomForestClassifier,MLPClassifier,MLPClassifier,\n",
        "             LinearDiscriminantAnalysis,QuadraticDiscriminantAnalysis,XGBClassifier]"
      ],
      "execution_count": 49,
      "outputs": []
    },
    {
      "cell_type": "code",
      "metadata": {
        "id": "-bTEdGSdkBHU",
        "colab": {
          "base_uri": "https://localhost:8080/"
        },
        "outputId": "5363879d-3e4c-4d87-cd1a-2d88a01354de"
      },
      "source": [
        "import pandas as pd\n",
        "\n",
        "col=[\"Name\",\"Accuracy\"]\n",
        "df=pd.DataFrame(columns=col)\n",
        "for classifier in Classifiers:\n",
        "    Name=classifier.__name__\n",
        "    model=classifier().fit(x_train,y_train)\n",
        "    y_pred=model.predict(x_test)\n",
        "    acc=accuracy_score(y_test,y_pred)\n",
        "    print(\"***Result***\")\n",
        "    print(\"=\"*40)\n",
        "    print(\"{} \\n Accuracy:{:.4%}\".format(Name,acc))\n",
        "    print(\"=\"*40)\n",
        "    df1=pd.DataFrame([[Name,acc]],columns=col)\n",
        "    df=df.append(df1)"
      ],
      "execution_count": 50,
      "outputs": [
        {
          "output_type": "stream",
          "text": [
            "***Result***\n",
            "========================================\n",
            "KNeighborsClassifier \n",
            " Accuracy:98.0585%\n",
            "========================================\n",
            "***Result***\n",
            "========================================\n",
            "SVC \n",
            " Accuracy:98.2727%\n",
            "========================================\n",
            "***Result***\n",
            "========================================\n",
            "LogisticRegression \n",
            " Accuracy:98.2727%\n",
            "========================================\n",
            "***Result***\n",
            "========================================\n",
            "RandomForestClassifier \n",
            " Accuracy:97.9729%\n",
            "========================================\n",
            "***Result***\n",
            "========================================\n",
            "RandomForestClassifier \n",
            " Accuracy:98.0585%\n",
            "========================================\n"
          ],
          "name": "stdout"
        },
        {
          "output_type": "stream",
          "text": [
            "/usr/local/lib/python3.7/dist-packages/sklearn/neural_network/_multilayer_perceptron.py:571: ConvergenceWarning: Stochastic Optimizer: Maximum iterations (200) reached and the optimization hasn't converged yet.\n",
            "  % self.max_iter, ConvergenceWarning)\n"
          ],
          "name": "stderr"
        },
        {
          "output_type": "stream",
          "text": [
            "***Result***\n",
            "========================================\n",
            "MLPClassifier \n",
            " Accuracy:98.2727%\n",
            "========================================\n"
          ],
          "name": "stdout"
        },
        {
          "output_type": "stream",
          "text": [
            "/usr/local/lib/python3.7/dist-packages/sklearn/neural_network/_multilayer_perceptron.py:571: ConvergenceWarning: Stochastic Optimizer: Maximum iterations (200) reached and the optimization hasn't converged yet.\n",
            "  % self.max_iter, ConvergenceWarning)\n"
          ],
          "name": "stderr"
        },
        {
          "output_type": "stream",
          "text": [
            "***Result***\n",
            "========================================\n",
            "MLPClassifier \n",
            " Accuracy:98.2727%\n",
            "========================================\n",
            "***Result***\n",
            "========================================\n",
            "LinearDiscriminantAnalysis \n",
            " Accuracy:98.3298%\n",
            "========================================\n"
          ],
          "name": "stdout"
        },
        {
          "output_type": "stream",
          "text": [
            "/usr/local/lib/python3.7/dist-packages/sklearn/discriminant_analysis.py:691: UserWarning: Variables are collinear\n",
            "  warnings.warn(\"Variables are collinear\")\n"
          ],
          "name": "stderr"
        },
        {
          "output_type": "stream",
          "text": [
            "***Result***\n",
            "========================================\n",
            "QuadraticDiscriminantAnalysis \n",
            " Accuracy:8.4368%\n",
            "========================================\n",
            "***Result***\n",
            "========================================\n",
            "XGBClassifier \n",
            " Accuracy:98.3298%\n",
            "========================================\n"
          ],
          "name": "stdout"
        }
      ]
    },
    {
      "cell_type": "code",
      "metadata": {
        "id": "R87ZkgkX-Utj",
        "outputId": "de3fde1c-4f31-4d49-d948-6e33c16462c2",
        "colab": {
          "base_uri": "https://localhost:8080/",
          "height": 285
        }
      },
      "source": [
        "import seaborn as sns\n",
        "\n",
        "sns.barplot(x=\"Accuracy\",y=\"Name\",data=df)\n",
        "pl.show()"
      ],
      "execution_count": 51,
      "outputs": [
        {
          "output_type": "display_data",
          "data": {
            "image/png": "[encoded data removed]",
            "text/plain": [
              "<Figure size 432x288 with 1 Axes>"
            ]
          },
          "metadata": {
            "tags": [],
            "needs_background": "light"
          }
        }
      ]
    },
    {
      "cell_type": "code",
      "metadata": {
        "id": "01OjHZyefIu0"
      },
      "source": [
        ""
      ],
      "execution_count": null,
      "outputs": []
    }
  ]
}