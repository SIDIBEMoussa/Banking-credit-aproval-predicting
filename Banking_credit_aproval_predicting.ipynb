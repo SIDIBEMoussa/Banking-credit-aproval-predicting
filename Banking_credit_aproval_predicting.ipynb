{
 "cells": [
  {
   "cell_type": "code",
   "execution_count": 422,
   "metadata": {
    "id": "r_usU1cGxwo_"
   },
   "outputs": [],
   "source": [
    "import pandas as pd"
   ]
  },
  {
   "cell_type": "code",
   "execution_count": 423,
   "metadata": {
    "id": "Q9x07Gw4x1dV"
   },
   "outputs": [],
   "source": [
    "data=pd.read_excel(\"/content/sample_data/Data.xlsx\")"
   ]
  },
  {
   "cell_type": "code",
   "execution_count": 424,
   "metadata": {
    "colab": {
     "base_uri": "https://localhost:8080/",
     "height": 182
    },
    "id": "-sXOt--byo_j",
    "outputId": "d9bea1b9-2835-4ad0-c2bb-97977a1bb5e9"
   },
   "outputs": [
    {
     "data": {
      "text/html": [
       "<div>\n",
       "<style scoped>\n",
       "    .dataframe tbody tr th:only-of-type {\n",
       "        vertical-align: middle;\n",
       "    }\n",
       "\n",
       "    .dataframe tbody tr th {\n",
       "        vertical-align: top;\n",
       "    }\n",
       "\n",
       "    .dataframe thead th {\n",
       "        text-align: right;\n",
       "    }\n",
       "</style>\n",
       "<table border=\"1\" class=\"dataframe\">\n",
       "  <thead>\n",
       "    <tr style=\"text-align: right;\">\n",
       "      <th></th>\n",
       "      <th>Unnamed: 0</th>\n",
       "      <th>ID</th>\n",
       "      <th>Sexe</th>\n",
       "      <th>Motorisé</th>\n",
       "      <th>PropriétaireImmobilier</th>\n",
       "      <th>NombreEnfants</th>\n",
       "      <th>RevenuAnnuel</th>\n",
       "      <th>SecteurActivité</th>\n",
       "      <th>NiveauEducation</th>\n",
       "      <th>EtatCivil</th>\n",
       "      <th>TypeLogement</th>\n",
       "      <th>CategorieEmploi</th>\n",
       "      <th>MembreFamille</th>\n",
       "      <th>Age</th>\n",
       "      <th>Experience</th>\n",
       "      <th>Approuvée</th>\n",
       "      <th>target</th>\n",
       "    </tr>\n",
       "  </thead>\n",
       "  <tbody>\n",
       "    <tr>\n",
       "      <th>0</th>\n",
       "      <td>2</td>\n",
       "      <td>5008806</td>\n",
       "      <td>M</td>\n",
       "      <td>Y</td>\n",
       "      <td>Y</td>\n",
       "      <td>0</td>\n",
       "      <td>112500.0</td>\n",
       "      <td>Working</td>\n",
       "      <td>Secondary / secondary special</td>\n",
       "      <td>Married</td>\n",
       "      <td>House / apartment</td>\n",
       "      <td>Security staff</td>\n",
       "      <td>2</td>\n",
       "      <td>58</td>\n",
       "      <td>3</td>\n",
       "      <td>No</td>\n",
       "      <td>0</td>\n",
       "    </tr>\n",
       "    <tr>\n",
       "      <th>1</th>\n",
       "      <td>3</td>\n",
       "      <td>5008808</td>\n",
       "      <td>F</td>\n",
       "      <td>N</td>\n",
       "      <td>Y</td>\n",
       "      <td>0</td>\n",
       "      <td>270000.0</td>\n",
       "      <td>Commercial associate</td>\n",
       "      <td>Secondary / secondary special</td>\n",
       "      <td>Single / not married</td>\n",
       "      <td>House / apartment</td>\n",
       "      <td>Sales staff</td>\n",
       "      <td>1</td>\n",
       "      <td>52</td>\n",
       "      <td>8</td>\n",
       "      <td>No</td>\n",
       "      <td>0</td>\n",
       "    </tr>\n",
       "  </tbody>\n",
       "</table>\n",
       "</div>"
      ],
      "text/plain": [
       "   Unnamed: 0       ID Sexe Motorisé  ... Age  Experience  Approuvée target\n",
       "0           2  5008806    M        Y  ...  58           3         No      0\n",
       "1           3  5008808    F        N  ...  52           8         No      0\n",
       "\n",
       "[2 rows x 17 columns]"
      ]
     },
     "execution_count": 424,
     "metadata": {
      "tags": []
     },
     "output_type": "execute_result"
    }
   ],
   "source": [
    "data.head(2)"
   ]
  },
  {
   "cell_type": "code",
   "execution_count": 425,
   "metadata": {
    "colab": {
     "base_uri": "https://localhost:8080/"
    },
    "id": "2ptyN8_t2Jbd",
    "outputId": "7af37c49-17b8-4bd9-a898-8015c7d9796d"
   },
   "outputs": [
    {
     "data": {
      "text/plain": [
       "Index(['Unnamed: 0', 'ID', 'Sexe', 'Motorisé', 'PropriétaireImmobilier',\n",
       "       'NombreEnfants', 'RevenuAnnuel', 'SecteurActivité', 'NiveauEducation',\n",
       "       'EtatCivil', 'TypeLogement', 'CategorieEmploi', 'MembreFamille', 'Age',\n",
       "       'Experience', 'Approuvée', 'target'],\n",
       "      dtype='object')"
      ]
     },
     "execution_count": 425,
     "metadata": {
      "tags": []
     },
     "output_type": "execute_result"
    }
   ],
   "source": [
    "data.columns"
   ]
  },
  {
   "cell_type": "code",
   "execution_count": 426,
   "metadata": {
    "id": "EpfIyCp4y9P3"
   },
   "outputs": [],
   "source": [
    "data=data.drop(['Unnamed: 0',\"ID\",\"Approuvée\"],axis=1)\n",
    "data=data.dropna()"
   ]
  },
  {
   "cell_type": "code",
   "execution_count": 427,
   "metadata": {
    "colab": {
     "base_uri": "https://localhost:8080/",
     "height": 165
    },
    "id": "huMBQapH0C0D",
    "outputId": "b1f27464-d005-4d3f-c142-b0a36fb5b261"
   },
   "outputs": [
    {
     "data": {
      "text/html": [
       "<div>\n",
       "<style scoped>\n",
       "    .dataframe tbody tr th:only-of-type {\n",
       "        vertical-align: middle;\n",
       "    }\n",
       "\n",
       "    .dataframe tbody tr th {\n",
       "        vertical-align: top;\n",
       "    }\n",
       "\n",
       "    .dataframe thead th {\n",
       "        text-align: right;\n",
       "    }\n",
       "</style>\n",
       "<table border=\"1\" class=\"dataframe\">\n",
       "  <thead>\n",
       "    <tr style=\"text-align: right;\">\n",
       "      <th></th>\n",
       "      <th>Sexe</th>\n",
       "      <th>Motorisé</th>\n",
       "      <th>PropriétaireImmobilier</th>\n",
       "      <th>NombreEnfants</th>\n",
       "      <th>RevenuAnnuel</th>\n",
       "      <th>SecteurActivité</th>\n",
       "      <th>NiveauEducation</th>\n",
       "      <th>EtatCivil</th>\n",
       "      <th>TypeLogement</th>\n",
       "      <th>CategorieEmploi</th>\n",
       "      <th>MembreFamille</th>\n",
       "      <th>Age</th>\n",
       "      <th>Experience</th>\n",
       "      <th>target</th>\n",
       "    </tr>\n",
       "  </thead>\n",
       "  <tbody>\n",
       "    <tr>\n",
       "      <th>0</th>\n",
       "      <td>M</td>\n",
       "      <td>Y</td>\n",
       "      <td>Y</td>\n",
       "      <td>0</td>\n",
       "      <td>112500.0</td>\n",
       "      <td>Working</td>\n",
       "      <td>Secondary / secondary special</td>\n",
       "      <td>Married</td>\n",
       "      <td>House / apartment</td>\n",
       "      <td>Security staff</td>\n",
       "      <td>2</td>\n",
       "      <td>58</td>\n",
       "      <td>3</td>\n",
       "      <td>0</td>\n",
       "    </tr>\n",
       "    <tr>\n",
       "      <th>1</th>\n",
       "      <td>F</td>\n",
       "      <td>N</td>\n",
       "      <td>Y</td>\n",
       "      <td>0</td>\n",
       "      <td>270000.0</td>\n",
       "      <td>Commercial associate</td>\n",
       "      <td>Secondary / secondary special</td>\n",
       "      <td>Single / not married</td>\n",
       "      <td>House / apartment</td>\n",
       "      <td>Sales staff</td>\n",
       "      <td>1</td>\n",
       "      <td>52</td>\n",
       "      <td>8</td>\n",
       "      <td>0</td>\n",
       "    </tr>\n",
       "  </tbody>\n",
       "</table>\n",
       "</div>"
      ],
      "text/plain": [
       "  Sexe Motorisé PropriétaireImmobilier  ...  Age  Experience target\n",
       "0    M        Y                      Y  ...   58           3      0\n",
       "1    F        N                      Y  ...   52           8      0\n",
       "\n",
       "[2 rows x 14 columns]"
      ]
     },
     "execution_count": 427,
     "metadata": {
      "tags": []
     },
     "output_type": "execute_result"
    }
   ],
   "source": [
    "data.head(2)"
   ]
  },
  {
   "cell_type": "code",
   "execution_count": 428,
   "metadata": {
    "id": "mpkXWqOz84dQ"
   },
   "outputs": [],
   "source": [
    "stri=[\"Sexe\",\"Motorisé\",\"PropriétaireImmobilier\",\"SecteurActivité\",\"NiveauEducation\",\"EtatCivil\",\"TypeLogement\",\"CategorieEmploi\"]"
   ]
  },
  {
   "cell_type": "code",
   "execution_count": 429,
   "metadata": {
    "colab": {
     "base_uri": "https://localhost:8080/"
    },
    "id": "IdeEQh9h9z3k",
    "outputId": "b6f794f5-2e45-4d9d-c37f-cf8329d7fdd2"
   },
   "outputs": [
    {
     "data": {
      "text/plain": [
       "['Sexe',\n",
       " 'Motorisé',\n",
       " 'PropriétaireImmobilier',\n",
       " 'SecteurActivité',\n",
       " 'NiveauEducation',\n",
       " 'EtatCivil',\n",
       " 'TypeLogement',\n",
       " 'CategorieEmploi']"
      ]
     },
     "execution_count": 429,
     "metadata": {
      "tags": []
     },
     "output_type": "execute_result"
    }
   ],
   "source": [
    "stri"
   ]
  },
  {
   "cell_type": "code",
   "execution_count": 430,
   "metadata": {
    "id": "laIxqB6w0mZT"
   },
   "outputs": [],
   "source": [
    "from sklearn.preprocessing import LabelEncoder\n",
    "lb=LabelEncoder()"
   ]
  },
  {
   "cell_type": "code",
   "execution_count": 431,
   "metadata": {
    "id": "M4RMsWje3Ctw"
   },
   "outputs": [],
   "source": [
    "for i in stri:\n",
    "      data[i]=lb.fit_transform(data[i])\n"
   ]
  },
  {
   "cell_type": "code",
   "execution_count": 432,
   "metadata": {
    "colab": {
     "base_uri": "https://localhost:8080/",
     "height": 224
    },
    "id": "lnAcwowW4L0i",
    "outputId": "c0ee84d3-340d-4d03-f889-9b7d93b0b2aa"
   },
   "outputs": [
    {
     "data": {
      "text/html": [
       "<div>\n",
       "<style scoped>\n",
       "    .dataframe tbody tr th:only-of-type {\n",
       "        vertical-align: middle;\n",
       "    }\n",
       "\n",
       "    .dataframe tbody tr th {\n",
       "        vertical-align: top;\n",
       "    }\n",
       "\n",
       "    .dataframe thead th {\n",
       "        text-align: right;\n",
       "    }\n",
       "</style>\n",
       "<table border=\"1\" class=\"dataframe\">\n",
       "  <thead>\n",
       "    <tr style=\"text-align: right;\">\n",
       "      <th></th>\n",
       "      <th>Sexe</th>\n",
       "      <th>Motorisé</th>\n",
       "      <th>PropriétaireImmobilier</th>\n",
       "      <th>NombreEnfants</th>\n",
       "      <th>RevenuAnnuel</th>\n",
       "      <th>SecteurActivité</th>\n",
       "      <th>NiveauEducation</th>\n",
       "      <th>EtatCivil</th>\n",
       "      <th>TypeLogement</th>\n",
       "      <th>CategorieEmploi</th>\n",
       "      <th>MembreFamille</th>\n",
       "      <th>Age</th>\n",
       "      <th>Experience</th>\n",
       "      <th>target</th>\n",
       "    </tr>\n",
       "  </thead>\n",
       "  <tbody>\n",
       "    <tr>\n",
       "      <th>0</th>\n",
       "      <td>1</td>\n",
       "      <td>1</td>\n",
       "      <td>1</td>\n",
       "      <td>0</td>\n",
       "      <td>112500.0</td>\n",
       "      <td>4</td>\n",
       "      <td>4</td>\n",
       "      <td>1</td>\n",
       "      <td>1</td>\n",
       "      <td>2</td>\n",
       "      <td>2</td>\n",
       "      <td>58</td>\n",
       "      <td>3</td>\n",
       "      <td>0</td>\n",
       "    </tr>\n",
       "    <tr>\n",
       "      <th>1</th>\n",
       "      <td>0</td>\n",
       "      <td>0</td>\n",
       "      <td>1</td>\n",
       "      <td>0</td>\n",
       "      <td>270000.0</td>\n",
       "      <td>0</td>\n",
       "      <td>4</td>\n",
       "      <td>3</td>\n",
       "      <td>1</td>\n",
       "      <td>1</td>\n",
       "      <td>1</td>\n",
       "      <td>52</td>\n",
       "      <td>8</td>\n",
       "      <td>0</td>\n",
       "    </tr>\n",
       "    <tr>\n",
       "      <th>2</th>\n",
       "      <td>0</td>\n",
       "      <td>0</td>\n",
       "      <td>1</td>\n",
       "      <td>0</td>\n",
       "      <td>270000.0</td>\n",
       "      <td>0</td>\n",
       "      <td>4</td>\n",
       "      <td>3</td>\n",
       "      <td>1</td>\n",
       "      <td>1</td>\n",
       "      <td>1</td>\n",
       "      <td>52</td>\n",
       "      <td>8</td>\n",
       "      <td>0</td>\n",
       "    </tr>\n",
       "    <tr>\n",
       "      <th>3</th>\n",
       "      <td>0</td>\n",
       "      <td>0</td>\n",
       "      <td>1</td>\n",
       "      <td>0</td>\n",
       "      <td>270000.0</td>\n",
       "      <td>0</td>\n",
       "      <td>4</td>\n",
       "      <td>3</td>\n",
       "      <td>1</td>\n",
       "      <td>1</td>\n",
       "      <td>1</td>\n",
       "      <td>52</td>\n",
       "      <td>8</td>\n",
       "      <td>0</td>\n",
       "    </tr>\n",
       "    <tr>\n",
       "      <th>4</th>\n",
       "      <td>0</td>\n",
       "      <td>0</td>\n",
       "      <td>1</td>\n",
       "      <td>0</td>\n",
       "      <td>270000.0</td>\n",
       "      <td>0</td>\n",
       "      <td>4</td>\n",
       "      <td>3</td>\n",
       "      <td>1</td>\n",
       "      <td>1</td>\n",
       "      <td>1</td>\n",
       "      <td>52</td>\n",
       "      <td>8</td>\n",
       "      <td>0</td>\n",
       "    </tr>\n",
       "  </tbody>\n",
       "</table>\n",
       "</div>"
      ],
      "text/plain": [
       "   Sexe  Motorisé  PropriétaireImmobilier  ...  Age  Experience  target\n",
       "0     1         1                       1  ...   58           3       0\n",
       "1     0         0                       1  ...   52           8       0\n",
       "2     0         0                       1  ...   52           8       0\n",
       "3     0         0                       1  ...   52           8       0\n",
       "4     0         0                       1  ...   52           8       0\n",
       "\n",
       "[5 rows x 14 columns]"
      ]
     },
     "execution_count": 432,
     "metadata": {
      "tags": []
     },
     "output_type": "execute_result"
    }
   ],
   "source": [
    "data1.head()"
   ]
  },
  {
   "cell_type": "code",
   "execution_count": 433,
   "metadata": {
    "id": "hXYxtOsy4ORq"
   },
   "outputs": [],
   "source": [
    "import seaborn as sns\n",
    "import matplotlib.pyplot as pl\n",
    "import numpy as np"
   ]
  },
  {
   "cell_type": "code",
   "execution_count": 434,
   "metadata": {
    "colab": {
     "base_uri": "https://localhost:8080/",
     "height": 417
    },
    "id": "m0Zl9EJ1vGg9",
    "outputId": "35eaa5fd-e26d-407c-dee1-56b24df7b217"
   },
   "outputs": [
    {
     "data": {
      "image/png": "[encoded data removed]",
      "text/plain": [
       "<Figure size 640x440 with 1 Axes>"
      ]
     },
     "metadata": {
      "tags": []
     },
     "output_type": "display_data"
    }
   ],
   "source": [
    "p=pl.hist(data.RevenuAnnuel)\n",
    "a=pl.annotate(\"le point d'arrêt des \\n valeurs coherents\",xy=(0.65*10**6,250),xytext=(800000,1000),arrowprops = {'facecolor': 'red','shrink': 0.1})\n",
    "m=pl.title(\"Mode des Revenues\")"
   ]
  },
  {
   "cell_type": "markdown",
   "metadata": {
    "id": "paqWO4JoxTis"
   },
   "source": [
    "Avec ce histogramme nous pouvons facilement detecter les outliers afin de les enlever sinon plus influent sur les valeurs de tendance centrale et de dispersion"
   ]
  },
  {
   "cell_type": "code",
   "execution_count": 435,
   "metadata": {
    "id": "6f_dXDeQx8v5"
   },
   "outputs": [],
   "source": [
    "data=data[data.RevenuAnnuel<350000]"
   ]
  },
  {
   "cell_type": "markdown",
   "metadata": {
    "id": "gqH5HtWJOSQt"
   },
   "source": [
    "## Analyse univariée"
   ]
  },
  {
   "cell_type": "markdown",
   "metadata": {
    "id": "Ep2_XZLf_BpN"
   },
   "source": [
    "1.   Mesures de tendances centrales  et mesures de dispersion\n",
    "2. Visualisation graphiques des données\n"
   ]
  },
  {
   "cell_type": "code",
   "execution_count": 436,
   "metadata": {
    "colab": {
     "base_uri": "https://localhost:8080/",
     "height": 596
    },
    "id": "P7Bz-eGo36ro",
    "outputId": "cb282f8c-1694-4b93-df5f-26787b8bbdb2"
   },
   "outputs": [
    {
     "name": "stderr",
     "output_type": "stream",
     "text": [
      "/usr/local/lib/python3.6/dist-packages/seaborn/_decorators.py:43: FutureWarning: Pass the following variable as a keyword arg: x. From version 0.12, the only valid positional argument will be `data`, and passing other arguments without an explicit keyword will result in an error or misinterpretation.\n",
      "  FutureWarning\n"
     ]
    },
    {
     "data": {
      "image/png": "[encoded data removed]",
      "text/plain": [
       "<Figure size 800x560 with 1 Axes>"
      ]
     },
     "metadata": {
      "tags": []
     },
     "output_type": "display_data"
    }
   ],
   "source": [
    "pl.figure(figsize=(10,7))\n",
    "sns.boxenplot(\"RevenuAnnuel\",data=data,width=0.9).set_title(\"La distribution des Revenues annuels\",size=25)\n",
    "pl.axis(xmin=26500,xmax=350500)\n",
    "pl.show()"
   ]
  },
  {
   "cell_type": "markdown",
   "metadata": {
    "id": "FmuTBI156ehh"
   },
   "source": [
    "Avec ce graphique ci-dessus nous avons une idée globale ci sur la distribution des salaires annuels des clients dont la moyenne est environ 180000"
   ]
  },
  {
   "cell_type": "code",
   "execution_count": 437,
   "metadata": {
    "colab": {
     "base_uri": "https://localhost:8080/"
    },
    "id": "CNCLU9Ul6_Rm",
    "outputId": "a0f41612-07a8-44ef-c262-7ae6f748ca3e"
   },
   "outputs": [
    {
     "data": {
      "text/plain": [
       "65579"
      ]
     },
     "execution_count": 437,
     "metadata": {
      "tags": []
     },
     "output_type": "execute_result"
    }
   ],
   "source": [
    "round((data.RevenuAnnuel).std())"
   ]
  },
  {
   "cell_type": "markdown",
   "metadata": {
    "id": "limBTAecIdA4"
   },
   "source": [
    "# La dispersion autour de la tendance central est std: 65579"
   ]
  },
  {
   "cell_type": "markdown",
   "metadata": {
    "id": "QhoCpVQEFf9p"
   },
   "source": [
    "# La dispersion du salaire annuel"
   ]
  },
  {
   "cell_type": "markdown",
   "metadata": {
    "id": "5omhjEQ274HV"
   },
   "source": [
    "Alors nous avions une très grande variabilité entre les salaires annuels de nos clients avec plus ou moins des valeurs qui peuvent tourner autour de la moyenne avec une de 65579 ce qui enorme au point de vue salariale alors nous observons une difference de classe sociale entre les clients voulant contracter le crédit"
   ]
  },
  {
   "cell_type": "code",
   "execution_count": 438,
   "metadata": {
    "colab": {
     "base_uri": "https://localhost:8080/"
    },
    "id": "XU_svX0C-n8e",
    "outputId": "413950f0-2724-4296-d012-5ad5b3fb5e42"
   },
   "outputs": [
    {
     "data": {
      "text/plain": [
       "(0.4637152516442095, -0.4807490784268902)"
      ]
     },
     "execution_count": 438,
     "metadata": {
      "tags": []
     },
     "output_type": "execute_result"
    }
   ],
   "source": [
    "data.RevenuAnnuel.skew(),data.RevenuAnnuel.kurtosis()"
   ]
  },
  {
   "cell_type": "markdown",
   "metadata": {
    "id": "G6Uq8UrUBeT9"
   },
   "source": [
    "# La forme du Revenu annuel des clients\n",
    "* La plupart de nos clients ont un salaire plus étalé à droite de la moyenne ce qui resulte de la positivité de skewness empirique\n",
    "* Notre variable a des observations moins concentrées: la distribution est plus applatis que la distibution normale"
   ]
  },
  {
   "cell_type": "markdown",
   "metadata": {
    "id": "rRgb569fGvfd"
   },
   "source": [
    "# Nous allons nous intérêsser dans cette partie à l'âge de nos candidats pour un crédit bancaire"
   ]
  },
  {
   "cell_type": "code",
   "execution_count": 439,
   "metadata": {
    "colab": {
     "base_uri": "https://localhost:8080/",
     "height": 596
    },
    "id": "qYFFmTE1DIEV",
    "outputId": "860ca640-8f00-4758-9190-7fd493c89b5f"
   },
   "outputs": [
    {
     "name": "stderr",
     "output_type": "stream",
     "text": [
      "/usr/local/lib/python3.6/dist-packages/seaborn/_decorators.py:43: FutureWarning: Pass the following variable as a keyword arg: x. From version 0.12, the only valid positional argument will be `data`, and passing other arguments without an explicit keyword will result in an error or misinterpretation.\n",
      "  FutureWarning\n"
     ]
    },
    {
     "data": {
      "image/png": "[encoded data removed]",
      "text/plain": [
       "<Figure size 800x560 with 1 Axes>"
      ]
     },
     "metadata": {
      "tags": []
     },
     "output_type": "display_data"
    }
   ],
   "source": [
    "pl.figure(figsize=(10,7))\n",
    "sns.boxenplot(\"Age\",data=data,width=0.9).set_title(\"La distribution de l'âge des clients\",size=25)\n",
    "pl.axis(xmin=20,xmax=67)\n",
    "pl.show()"
   ]
  },
  {
   "cell_type": "markdown",
   "metadata": {
    "id": "UofmbjfDEeaF"
   },
   "source": [
    "## Nous avions une clientèle plus concentré dans le tranche d'âge [37 ans - 57 ans] "
   ]
  },
  {
   "cell_type": "code",
   "execution_count": 440,
   "metadata": {
    "colab": {
     "base_uri": "https://localhost:8080/"
    },
    "id": "ILEMW7xZIuTX",
    "outputId": "c8bb6df5-2980-4b36-a515-92725f2e2cce"
   },
   "outputs": [
    {
     "data": {
      "text/plain": [
       "10"
      ]
     },
     "execution_count": 440,
     "metadata": {
      "tags": []
     },
     "output_type": "execute_result"
    }
   ],
   "source": [
    "round(data.Age.std())"
   ]
  },
  {
   "cell_type": "markdown",
   "metadata": {
    "id": "Xn8zbSbyJAUR"
   },
   "source": [
    "## La dispersion de l'âge autour de la tendance central est std: 10"
   ]
  },
  {
   "cell_type": "code",
   "execution_count": 440,
   "metadata": {
    "id": "4ImS1F4DJjNk"
   },
   "outputs": [],
   "source": []
  },
  {
   "cell_type": "code",
   "execution_count": 441,
   "metadata": {
    "colab": {
     "base_uri": "https://localhost:8080/"
    },
    "id": "CvvGndqqLAtE",
    "outputId": "1dda40b8-81a6-4d71-bd87-6d7181a6ebb4"
   },
   "outputs": [
    {
     "data": {
      "text/plain": [
       "(0.28735032524142645, -0.741356087952862)"
      ]
     },
     "execution_count": 441,
     "metadata": {
      "tags": []
     },
     "output_type": "execute_result"
    }
   ],
   "source": [
    "data.Age.skew(),data.Age.kurtosis()"
   ]
  },
  {
   "cell_type": "markdown",
   "metadata": {
    "id": "NQspIakCK8x4"
   },
   "source": [
    "# La forme de l'âge des clients\n",
    "* La plupart de nos clients ont un âge plus étalé à droite  de la  moyenne ce qui resulte de la positivité de skewness empirique\n",
    "* Notre variable a des observations moins concentrées: la distribution est plus applatis que la distibution normale"
   ]
  },
  {
   "cell_type": "code",
   "execution_count": 442,
   "metadata": {
    "colab": {
     "base_uri": "https://localhost:8080/",
     "height": 401
    },
    "id": "xkNx4XM-yeQh",
    "outputId": "852b91a4-faf4-44dc-885c-5db5b9624f40"
   },
   "outputs": [
    {
     "data": {
      "text/plain": [
       "<seaborn.axisgrid.FacetGrid at 0x7f9120210860>"
      ]
     },
     "execution_count": 442,
     "metadata": {
      "tags": []
     },
     "output_type": "execute_result"
    },
    {
     "data": {
      "image/png": "[encoded data removed]",
      "text/plain": [
       "<Figure size 400x400 with 1 Axes>"
      ]
     },
     "metadata": {
      "tags": []
     },
     "output_type": "display_data"
    }
   ],
   "source": [
    "sns.displot(data.Age)"
   ]
  },
  {
   "cell_type": "code",
   "execution_count": 443,
   "metadata": {
    "colab": {
     "base_uri": "https://localhost:8080/"
    },
    "id": "RsPQb9YtXJpS",
    "outputId": "ce51ea7d-4df8-475f-d098-8a0deecfb9a3"
   },
   "outputs": [
    {
     "data": {
      "text/plain": [
       "(23349, 14)"
      ]
     },
     "execution_count": 443,
     "metadata": {
      "tags": []
     },
     "output_type": "execute_result"
    }
   ],
   "source": [
    "data.shape"
   ]
  },
  {
   "cell_type": "code",
   "execution_count": 444,
   "metadata": {
    "colab": {
     "base_uri": "https://localhost:8080/"
    },
    "id": "BXd4Kng6QVgz",
    "outputId": "fac48ce0-43d4-4187-87b1-af7faa68e79c"
   },
   "outputs": [
    {
     "data": {
      "text/plain": [
       "393"
      ]
     },
     "execution_count": 444,
     "metadata": {
      "tags": []
     },
     "output_type": "execute_result"
    }
   ],
   "source": [
    "len(data[data.target==1])"
   ]
  },
  {
   "cell_type": "code",
   "execution_count": 445,
   "metadata": {
    "id": "n-x34Fzjz8eg"
   },
   "outputs": [],
   "source": [
    "sizes=[len(data[data.target==0]),len(data[data.target==1])]\n",
    "labels=[\"Refusées\",\"Accordées\"]\n",
    "explode=(0.5,0)"
   ]
  },
  {
   "cell_type": "code",
   "execution_count": 446,
   "metadata": {
    "colab": {
     "base_uri": "https://localhost:8080/",
     "height": 385
    },
    "id": "tIv7OK0kkpjo",
    "outputId": "f4956cdc-aa18-4b50-a950-662eb59da910"
   },
   "outputs": [
    {
     "data": {
      "image/png": "[encoded data removed]",
      "text/plain": [
       "<Figure size 640x440 with 1 Axes>"
      ]
     },
     "metadata": {
      "tags": []
     },
     "output_type": "display_data"
    }
   ],
   "source": [
    "p=pl.pie(sizes,explode,labels,autopct='%1.1f%%',shadow=True)"
   ]
  },
  {
   "cell_type": "markdown",
   "metadata": {
    "id": "cBwwjM-fYuMG"
   },
   "source": [
    "Nous pouvons voir que seuls 1.7% auront droits au credit contre 98.3%"
   ]
  },
  {
   "cell_type": "code",
   "execution_count": 447,
   "metadata": {
    "colab": {
     "base_uri": "https://localhost:8080/",
     "height": 142
    },
    "id": "ZVa07GokYFmT",
    "outputId": "5dddf53e-3f16-479b-a3ce-dfce858e325e"
   },
   "outputs": [
    {
     "data": {
      "text/html": [
       "<div>\n",
       "<style scoped>\n",
       "    .dataframe tbody tr th:only-of-type {\n",
       "        vertical-align: middle;\n",
       "    }\n",
       "\n",
       "    .dataframe tbody tr th {\n",
       "        vertical-align: top;\n",
       "    }\n",
       "\n",
       "    .dataframe thead th {\n",
       "        text-align: right;\n",
       "    }\n",
       "</style>\n",
       "<table border=\"1\" class=\"dataframe\">\n",
       "  <thead>\n",
       "    <tr style=\"text-align: right;\">\n",
       "      <th>Sexe</th>\n",
       "      <th>0</th>\n",
       "      <th>1</th>\n",
       "    </tr>\n",
       "    <tr>\n",
       "      <th>target</th>\n",
       "      <th></th>\n",
       "      <th></th>\n",
       "    </tr>\n",
       "  </thead>\n",
       "  <tbody>\n",
       "    <tr>\n",
       "      <th>0</th>\n",
       "      <td>4031</td>\n",
       "      <td>5214</td>\n",
       "    </tr>\n",
       "    <tr>\n",
       "      <th>1</th>\n",
       "      <td>66</td>\n",
       "      <td>96</td>\n",
       "    </tr>\n",
       "  </tbody>\n",
       "</table>\n",
       "</div>"
      ],
      "text/plain": [
       "Sexe       0     1\n",
       "target            \n",
       "0       4031  5214\n",
       "1         66    96"
      ]
     },
     "execution_count": 447,
     "metadata": {
      "tags": []
     },
     "output_type": "execute_result"
    }
   ],
   "source": [
    "data.pivot_table(\"Motorisé\",index=\"target\",columns=\"Sexe\",aggfunc=\"sum\")"
   ]
  },
  {
   "cell_type": "code",
   "execution_count": 448,
   "metadata": {
    "id": "Y9rc9niQZcth"
   },
   "outputs": [],
   "source": []
  },
  {
   "cell_type": "code",
   "execution_count": 448,
   "metadata": {
    "id": "r0vyQS63ZsWj"
   },
   "outputs": [],
   "source": []
  }
 ],
 "metadata": {
  "colab": {
   "authorship_tag": "ABX9TyNdwjoGr1zoobN4k91eVlu9",
   "collapsed_sections": [],
   "include_colab_link": true,
   "name": "Banking credit aproval predicting.ipynb",
   "provenance": [],
   "toc_visible": true
  },
  "kernelspec": {
   "display_name": "Python 3",
   "language": "python",
   "name": "python3"
  },
  "language_info": {
   "codemirror_mode": {
    "name": "ipython",
    "version": 3
   },
   "file_extension": ".py",
   "mimetype": "text/x-python",
   "name": "python",
   "nbconvert_exporter": "python",
   "pygments_lexer": "ipython3",
   "version": "3.8.5"
  }
 },
 "nbformat": 4,
 "nbformat_minor": 1
}
